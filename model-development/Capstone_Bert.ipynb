{
  "cells": [
    {
      "cell_type": "markdown",
      "metadata": {
        "id": "BnAOIdGLwzDZ"
      },
      "source": [
        "# Download indonesian stopwords"
      ]
    },
    {
      "cell_type": "code",
      "execution_count": null,
      "metadata": {
        "id": "P-09dWkBwzDY"
      },
      "outputs": [],
      "source": [
        "import numpy as np\n",
        "import tensorflow as tf\n",
        "from keras.preprocessing.text import Tokenizer\n",
        "from keras.preprocessing.sequence import pad_sequences\n",
        "import csv\n",
        "import matplotlib.pyplot as plt\n",
        "import nltk\n",
        "from nltk.corpus import stopwords"
      ]
    },
    {
      "cell_type": "code",
      "execution_count": null,
      "metadata": {
        "colab": {
          "base_uri": "https://localhost:8080/"
        },
        "id": "0KYYZES_wzDa",
        "outputId": "093a4669-e560-41db-e91e-63f6584c118d"
      },
      "outputs": [
        {
          "name": "stdout",
          "output_type": "stream",
          "text": [
            "['ada', 'adalah', 'adanya', 'adapun', 'agak', 'agaknya', 'agar', 'akan', 'akankah', 'akhir', 'akhiri', 'akhirnya', 'aku', 'akulah', 'amat', 'amatlah', 'anda', 'andalah', 'antar', 'antara']\n"
          ]
        },
        {
          "name": "stderr",
          "output_type": "stream",
          "text": [
            "[nltk_data] Downloading package stopwords to /root/nltk_data...\n",
            "[nltk_data]   Unzipping corpora/stopwords.zip.\n"
          ]
        }
      ],
      "source": [
        "nltk.download('stopwords')\n",
        "stopwords_indonesia = stopwords.words('indonesian')\n",
        "\n",
        "# Tampilkan beberapa contoh stopwords bahasa Indonesia\n",
        "print(stopwords_indonesia[:20])"
      ]
    },
    {
      "cell_type": "markdown",
      "metadata": {
        "id": "q1FxILMVwzDb"
      },
      "source": [
        "# Removing Stop words"
      ]
    },
    {
      "cell_type": "code",
      "execution_count": null,
      "metadata": {
        "id": "f349Gd4dwzDb"
      },
      "outputs": [],
      "source": [
        "def remove_stopwords(sentence):\n",
        "\n",
        "    # Sentence converted to lowercase-only\n",
        "    sentence = sentence.lower()\n",
        "\n",
        "    words = sentence.split()\n",
        "    no_words = [w for w in words if w not in stopwords_indonesia]\n",
        "    sentence = \" \".join(no_words)\n",
        "\n",
        "    return sentence"
      ]
    },
    {
      "cell_type": "markdown",
      "metadata": {
        "id": "s-ItURYlwzDc"
      },
      "source": [
        "# Function Load Dataset"
      ]
    },
    {
      "cell_type": "code",
      "execution_count": null,
      "metadata": {
        "id": "Xho9-iOawzDc"
      },
      "outputs": [],
      "source": [
        "def load_dataset(filename, stopwords_remove):\n",
        "    sentences = []\n",
        "    labels = []\n",
        "\n",
        "    with open(filename, \"r\") as file:\n",
        "        reader = csv.reader(file, delimiter=\",\")\n",
        "        next(reader)\n",
        "        for row in reader:\n",
        "            sentences.append(remove_stopwords(row[0]) if stopwords_remove == True else row[0])\n",
        "            labels.append(int(row[1]))\n",
        "\n",
        "    return sentences, labels"
      ]
    },
    {
      "cell_type": "markdown",
      "metadata": {
        "id": "lW5ZWWsiwzDc"
      },
      "source": [
        "# Load Dataset From CSV"
      ]
    },
    {
      "cell_type": "code",
      "execution_count": null,
      "metadata": {
        "id": "cWCv-JBOwzDd"
      },
      "outputs": [],
      "source": [
        "csvDataset = \"Training_Dataset.csv\"\n",
        "csvValidation = \"Validation_Dataset.csv\"\n",
        "\n",
        "train_sentences , train_labels = load_dataset(csvDataset, True)\n",
        "validation_sentences, validation_labels = load_dataset(csvValidation, False)\n",
        "before_train_remove, _ = load_dataset(csvDataset, False)\n"
      ]
    },
    {
      "cell_type": "code",
      "execution_count": null,
      "metadata": {
        "colab": {
          "base_uri": "https://localhost:8080/"
        },
        "id": "8Yto-YBjwzDd",
        "outputId": "31e3dc34-ca8c-4145-84f4-363e59091f5f"
      },
      "outputs": [
        {
          "data": {
            "text/plain": [
              "80485"
            ]
          },
          "execution_count": 6,
          "metadata": {},
          "output_type": "execute_result"
        }
      ],
      "source": [
        "# print(len(train_sentences))\n",
        "#sample\n",
        "# for i in range(10):\n",
        "#     print(train_sentences[i])\n",
        "\n",
        "sum([len(word) for word in train_sentences])\n"
      ]
    },
    {
      "cell_type": "markdown",
      "metadata": {
        "id": "r5C5FWzywzDe"
      },
      "source": [
        "Setting Utiliti Untuk Knobs"
      ]
    },
    {
      "cell_type": "code",
      "execution_count": null,
      "metadata": {
        "id": "u2iAR8GCwzDf"
      },
      "outputs": [],
      "source": [
        "vocab_size = 32000 #sesuai library bert-base-indonesian-522M\n",
        "oov = \"<OOV>\"\n",
        "padding = \"post\"\n",
        "truncate = \"post\"\n",
        "embedding_dim = 16\n",
        "max_length = 25\n",
        "\n",
        "num_classes = 5"
      ]
    },
    {
      "cell_type": "markdown",
      "metadata": {
        "id": "MIXCbhb6wzDf"
      },
      "source": [
        "# Set Up Tokenizer"
      ]
    },
    {
      "cell_type": "code",
      "execution_count": null,
      "metadata": {
        "colab": {
          "base_uri": "https://localhost:8080/",
          "height": 284,
          "referenced_widgets": [
            "55d281c125c14d579ddec609d547bf12",
            "3210fd5ac0d54f30aa785d23056506fe",
            "d5f04a430ecd443bbbcba184f41800f0",
            "16227931199b4abe84faf68f1eea1d2c",
            "d0fe96cd01764a10b2641076ff708a18",
            "fe31a390efb946179be73ce871ba5d7f",
            "61d15a16bd664d41bef036e63afb161c",
            "83b64695922648c6831bf26fcf240932",
            "000ece91d54a489abe7088f1436bedc9",
            "6c7610f3d2664579a23fc996303dc9c0",
            "075d822b218642f69ac5885b82c5de28",
            "b726fba8ccc14398a1f48c74d2041cf2",
            "dd630b85563d4516ba5eba98510e020b",
            "fd1d672ab7e24dcd9066a4b9820d47be",
            "4f245700ff1a493e90eeaaa7120c49e8",
            "7a16b724ae0d41a8a6781cc66696798b",
            "925e64ea18e849889ea1e75845c709e6",
            "2c9d7715012b4b8cb43db167831644dc",
            "bbac66fb2e094a26a80ad918f5b533b1",
            "98bfd741acdc4d9b9ee34be93004f240",
            "e22afc1274f945cbaff82e439a570be3",
            "210f7208a51249b5b75ac51973cd4c01",
            "8844bcda033845f79f222ab38225bed3",
            "ca37a07ea96b4a1d807b31607d287fd0",
            "d023f21aa84e4c8ca0b306efce1c762d",
            "464bf8c6dcfb4cb48da358808302631f",
            "96622adfd3154339b2f75237255e5f61",
            "8deb0ee243724ffe8d921be537eab8be",
            "c88aa0ef98bf4a76858ba669b67923e8",
            "f2e345e37f5646adb3000fddb474a450",
            "4ce251ccfb2a4f19a5c2f9f8d1da9420",
            "5bf384c2c663445e9c25f2d457594d53",
            "3500b548afaa4c6491120f66fa319592",
            "b83b019ff7e54d9eb782d3507c011b33",
            "6413873d4c584265a52ff49359bacac9",
            "25c5d9c5162244418907c25248dd2e89",
            "c79d0d35cf0747a7a2a4b0932ff29d6e",
            "ea40c1cef83e465e8e9ec27ea7d9f6ac",
            "38a54cca092545cc98bc069b6db6a450",
            "5012f692c9d7444d9a10b9e3506dd6c4",
            "81e2de6814a449e384d65c7ef4f7e04f",
            "1a9e412008b8424981ce8eed49393926",
            "66965fdabb024e24bc9706da3de02ff6",
            "3ad6a8771e9a471c80b8ad04bed6bb07",
            "8c643c26eded4f079635a8a91bee3167",
            "6038fc3c25c64a9c99868101fffd32d4",
            "f83e7efa9c424840962115a432164285",
            "98f0eca9f73e4224a5a29829b5c1ba07",
            "c35d0d464e5e49be9937517dd8bb5a0b",
            "d662f5099c2c478a828720b724c343a3",
            "628655d390dc483b8e6f5dddad3fc18c",
            "dcb62b6bb89146c9a78efa01a576b034",
            "b77452568c6d444dbe06717129eea209",
            "05fcf7d208dd4a71998cec3b3095938d",
            "86e9c5c9169542eaba970714121ab919"
          ]
        },
        "id": "zj1fZyS9prrp",
        "outputId": "d3e26318-297e-4cb3-cf32-b8eaab34d98a"
      },
      "outputs": [
        {
          "data": {
            "application/vnd.jupyter.widget-view+json": {
              "model_id": "55d281c125c14d579ddec609d547bf12",
              "version_major": 2,
              "version_minor": 0
            },
            "text/plain": [
              "tokenizer_config.json:   0%|          | 0.00/62.0 [00:00<?, ?B/s]"
            ]
          },
          "metadata": {},
          "output_type": "display_data"
        },
        {
          "data": {
            "application/vnd.jupyter.widget-view+json": {
              "model_id": "b726fba8ccc14398a1f48c74d2041cf2",
              "version_major": 2,
              "version_minor": 0
            },
            "text/plain": [
              "vocab.txt:   0%|          | 0.00/230k [00:00<?, ?B/s]"
            ]
          },
          "metadata": {},
          "output_type": "display_data"
        },
        {
          "data": {
            "application/vnd.jupyter.widget-view+json": {
              "model_id": "8844bcda033845f79f222ab38225bed3",
              "version_major": 2,
              "version_minor": 0
            },
            "text/plain": [
              "special_tokens_map.json:   0%|          | 0.00/112 [00:00<?, ?B/s]"
            ]
          },
          "metadata": {},
          "output_type": "display_data"
        },
        {
          "data": {
            "application/vnd.jupyter.widget-view+json": {
              "model_id": "b83b019ff7e54d9eb782d3507c011b33",
              "version_major": 2,
              "version_minor": 0
            },
            "text/plain": [
              "config.json:   0%|          | 0.00/468 [00:00<?, ?B/s]"
            ]
          },
          "metadata": {},
          "output_type": "display_data"
        },
        {
          "data": {
            "application/vnd.jupyter.widget-view+json": {
              "model_id": "8c643c26eded4f079635a8a91bee3167",
              "version_major": 2,
              "version_minor": 0
            },
            "text/plain": [
              "tf_model.h5:   0%|          | 0.00/545M [00:00<?, ?B/s]"
            ]
          },
          "metadata": {},
          "output_type": "display_data"
        },
        {
          "name": "stderr",
          "output_type": "stream",
          "text": [
            "Some layers from the model checkpoint at cahya/bert-base-indonesian-522M were not used when initializing TFBertModel: ['mlm___cls']\n",
            "- This IS expected if you are initializing TFBertModel from the checkpoint of a model trained on another task or with another architecture (e.g. initializing a BertForSequenceClassification model from a BertForPreTraining model).\n",
            "- This IS NOT expected if you are initializing TFBertModel from the checkpoint of a model that you expect to be exactly identical (initializing a BertForSequenceClassification model from a BertForSequenceClassification model).\n",
            "All the layers of TFBertModel were initialized from the model checkpoint at cahya/bert-base-indonesian-522M.\n",
            "If your task is similar to the task the model of the checkpoint was trained on, you can already use TFBertModel for predictions without further training.\n"
          ]
        }
      ],
      "source": [
        "from transformers import BertTokenizer, TFBertModel\n",
        "\n",
        "model_name='cahya/bert-base-indonesian-522M'\n",
        "tokenizer = BertTokenizer.from_pretrained(model_name,\n",
        "    model_max_length=max_length,  # Maximum length of sequences after tokenization\n",
        "    padding=padding,  # Padding strategy\n",
        "    truncation=truncate,  # Truncation strategy\n",
        "    max_length=max_length,  # Maximum length of sequences after padding or truncation\n",
        ")\n",
        "\n",
        "model = TFBertModel.from_pretrained(model_name)\n",
        "text = \"Silakan diganti dengan text apa saja.\"\n",
        "encoded_input = tokenizer(text)"
      ]
    },
    {
      "cell_type": "code",
      "execution_count": null,
      "metadata": {
        "colab": {
          "base_uri": "https://localhost:8080/"
        },
        "id": "w-9diGi1wzDf",
        "outputId": "7f02b6c1-b07e-409e-e8a1-68780a754f94"
      },
      "outputs": [
        {
          "data": {
            "text/plain": [
              "[['kue', 1182],\n",
              " ['menyesuaikan', 1183],\n",
              " ['menyempatkan', 1184],\n",
              " ['harap', 1185],\n",
              " ['prosesnya', 1186],\n",
              " ['dihargai', 1187],\n",
              " ['menolong', 1188],\n",
              " ['mengangkatnya', 1189],\n",
              " ['datang', 1190],\n",
              " ['mendatang', 1191],\n",
              " ['merelokasi', 1192],\n",
              " ['penolong', 1193],\n",
              " ['menunggu', 1194],\n",
              " ['orang', 1195],\n",
              " ['mengharapkan', 1196],\n",
              " ['berterima', 1197],\n",
              " ['kasih', 1198],\n",
              " ['dilakukan', 1199],\n",
              " ['transportasi', 1200],\n",
              " ['terlibat', 1201]]"
            ]
          },
          "execution_count": 9,
          "metadata": {},
          "output_type": "execute_result"
        }
      ],
      "source": [
        "#set Tokenizer\n",
        "#tokenizer = Tokenizer(num_words=vocab_size, oov_token=oov)\n",
        "#Fit on texts get the word index\n",
        "#tokenizer.fit_on_texts(train_sentences)\n",
        "#[[x, y] for x, y in tokenizer.word_index.items()][-20:]\n",
        "# print(tokenizer.word_index)"
      ]
    },
    {
      "cell_type": "markdown",
      "metadata": {
        "id": "2GDKEm2cwzDf"
      },
      "source": [
        "# Sequences The dataset"
      ]
    },
    {
      "cell_type": "code",
      "execution_count": null,
      "metadata": {
        "colab": {
          "base_uri": "https://localhost:8080/"
        },
        "id": "0Cd02V1XqSzv",
        "outputId": "dcde95a3-f045-4969-d77e-c9c413e6ff1b"
      },
      "outputs": [
        {
          "name": "stderr",
          "output_type": "stream",
          "text": [
            "Token indices sequence length is longer than the specified maximum sequence length for this model (28 > 25). Running this sequence through the model will result in indexing errors\n"
          ]
        },
        {
          "name": "stdout",
          "output_type": "stream",
          "text": [
            "[1, 0, 2, 4, 1]\n"
          ]
        }
      ],
      "source": [
        "train_sequences = [tokenizer(sentence)['input_ids'] for sentence in train_sentences]\n",
        "train_padded = np.array(pad_sequences(train_sequences, padding=padding, maxlen=max_length, truncating=truncate))\n",
        "\n",
        "validation_sequences = [tokenizer(sentence)['input_ids'] for sentence in validation_sentences]\n",
        "validation_padded = np.array(pad_sequences(validation_sequences, padding=padding, maxlen=max_length, truncating=truncate))\n",
        "\n",
        "print(train_labels[:5])\n",
        "train_labels=np.array(train_labels)\n",
        "validation_labels=np.array(validation_labels)\n",
        "\n",
        "train_labels = tf.one_hot(train_labels, depth=num_classes)\n",
        "validation_labels = tf.one_hot(validation_labels, depth=num_classes)"
      ]
    },
    {
      "cell_type": "code",
      "execution_count": null,
      "metadata": {
        "colab": {
          "base_uri": "https://localhost:8080/",
          "height": 248
        },
        "id": "zsqSh8DWwzDf",
        "outputId": "43ea6ca1-cc6c-4680-bfe7-9d9a72169a73"
      },
      "outputs": [
        {
          "ename": "AttributeError",
          "evalue": "ignored",
          "output_type": "error",
          "traceback": [
            "\u001b[0;31m---------------------------------------------------------------------------\u001b[0m",
            "\u001b[0;31mAttributeError\u001b[0m                            Traceback (most recent call last)",
            "\u001b[0;32m<ipython-input-15-8a46ea7bdc46>\u001b[0m in \u001b[0;36m<cell line: 1>\u001b[0;34m()\u001b[0m\n\u001b[0;32m----> 1\u001b[0;31m \u001b[0mtrain_sequences\u001b[0m \u001b[0;34m=\u001b[0m \u001b[0mtokenizer\u001b[0m\u001b[0;34m.\u001b[0m\u001b[0mtexts_to_sequences\u001b[0m\u001b[0;34m(\u001b[0m\u001b[0mtrain_sentences\u001b[0m\u001b[0;34m)\u001b[0m\u001b[0;34m\u001b[0m\u001b[0;34m\u001b[0m\u001b[0m\n\u001b[0m\u001b[1;32m      2\u001b[0m \u001b[0mtrain_padded\u001b[0m \u001b[0;34m=\u001b[0m \u001b[0mpad_sequences\u001b[0m\u001b[0;34m(\u001b[0m\u001b[0mtrain_sequences\u001b[0m\u001b[0;34m,\u001b[0m \u001b[0mpadding\u001b[0m\u001b[0;34m=\u001b[0m\u001b[0mpadding\u001b[0m\u001b[0;34m,\u001b[0m \u001b[0mmaxlen\u001b[0m\u001b[0;34m=\u001b[0m\u001b[0mmax_length\u001b[0m\u001b[0;34m,\u001b[0m \u001b[0mtruncating\u001b[0m\u001b[0;34m=\u001b[0m\u001b[0mtruncate\u001b[0m\u001b[0;34m)\u001b[0m\u001b[0;34m\u001b[0m\u001b[0;34m\u001b[0m\u001b[0m\n\u001b[1;32m      3\u001b[0m \u001b[0;34m\u001b[0m\u001b[0m\n\u001b[1;32m      4\u001b[0m \u001b[0mvalidation_sequences\u001b[0m \u001b[0;34m=\u001b[0m \u001b[0mtokenizer\u001b[0m\u001b[0;34m.\u001b[0m\u001b[0mtexts_to_sequences\u001b[0m\u001b[0;34m(\u001b[0m\u001b[0mvalidation_sentences\u001b[0m\u001b[0;34m)\u001b[0m\u001b[0;34m\u001b[0m\u001b[0;34m\u001b[0m\u001b[0m\n\u001b[1;32m      5\u001b[0m \u001b[0mvalidation_padded\u001b[0m \u001b[0;34m=\u001b[0m \u001b[0mpad_sequences\u001b[0m\u001b[0;34m(\u001b[0m\u001b[0mvalidation_sequences\u001b[0m\u001b[0;34m,\u001b[0m \u001b[0mpadding\u001b[0m\u001b[0;34m=\u001b[0m\u001b[0mpadding\u001b[0m\u001b[0;34m,\u001b[0m \u001b[0mmaxlen\u001b[0m\u001b[0;34m=\u001b[0m\u001b[0mmax_length\u001b[0m\u001b[0;34m,\u001b[0m \u001b[0mtruncating\u001b[0m\u001b[0;34m=\u001b[0m\u001b[0mtruncate\u001b[0m\u001b[0;34m)\u001b[0m\u001b[0;34m\u001b[0m\u001b[0;34m\u001b[0m\u001b[0m\n",
            "\u001b[0;31mAttributeError\u001b[0m: 'BertTokenizer' object has no attribute 'texts_to_sequences'"
          ]
        }
      ],
      "source": [
        "#train_sequences = tokenizer.texts_to_sequences(train_sentences)\n",
        "#train_padded = pad_sequences(train_sequences, padding=padding, maxlen=max_length, truncating=truncate)\n",
        "\n",
        "#validation_sequences = tokenizer.texts_to_sequences(validation_sentences)\n",
        "#validation_padded = pad_sequences(validation_sequences, padding=padding, maxlen=max_length, truncating=truncate)\n",
        "\n",
        "#train_labels=np.array(train_labels)\n",
        "#validation_labels=np.array(validation_labels)\n",
        "\n",
        "#train_labels = tf.one_hot(train_labels, depth=num_classes)\n",
        "#validation_labels = tf.one_hot(validation_labels, depth=num_classes)\n",
        "\n",
        "# train_labels = np.expand_dims(train_labels, axis=1)\n",
        "# validation_labels = np.expand_dims(validation_labels, axis=1)"
      ]
    },
    {
      "cell_type": "code",
      "execution_count": null,
      "metadata": {
        "colab": {
          "base_uri": "https://localhost:8080/"
        },
        "id": "2tD-a_FZwzDg",
        "outputId": "97746b43-f07c-4a9e-e24e-1afc819601b3"
      },
      "outputs": [
        {
          "name": "stdout",
          "output_type": "stream",
          "text": [
            "(1499, 25)\n",
            "(249, 25)\n",
            "(1499, 5)\n",
            "(249, 5)\n",
            "tf.Tensor([0. 1. 0. 0. 0.], shape=(5,), dtype=float32)\n"
          ]
        }
      ],
      "source": [
        "print(train_padded.shape)\n",
        "print(validation_padded.shape)\n",
        "print(train_labels.shape)\n",
        "print(validation_labels.shape)\n",
        "print(train_labels[0])"
      ]
    },
    {
      "cell_type": "markdown",
      "metadata": {
        "id": "GngqCm_GwzDg"
      },
      "source": [
        "# Stop The callbacks When Val_Accuracy Reach 85%"
      ]
    },
    {
      "cell_type": "code",
      "execution_count": null,
      "metadata": {
        "id": "ml7rLODawzDg"
      },
      "outputs": [],
      "source": [
        "class myCallback(tf.keras.callbacks.Callback):\n",
        "  def on_epoch_end(self, epoch, logs={}):\n",
        "    if(logs.get('val_accuracy') >= 0.85 and logs.get('loss') <= 0.10 and logs.get('val_loss') <= 0.10): # Experiment with changing this value\n",
        "      print(\"\\nReached 80% accuracy so cancelling training!\")\n",
        "      self.model.stop_training = True\n",
        "\n",
        "callbacks = myCallback()"
      ]
    },
    {
      "cell_type": "markdown",
      "metadata": {
        "id": "EmLTJep2wzDg"
      },
      "source": [
        "# Creating The model and Tuning The model"
      ]
    },
    {
      "cell_type": "code",
      "execution_count": null,
      "metadata": {
        "colab": {
          "base_uri": "https://localhost:8080/"
        },
        "id": "A6cBlDxZwzDh",
        "outputId": "7d8f474b-d167-420c-e74f-ff0bcd9e91f4"
      },
      "outputs": [
        {
          "name": "stdout",
          "output_type": "stream",
          "text": [
            "Model: \"sequential_5\"\n",
            "_________________________________________________________________\n",
            " Layer (type)                Output Shape              Param #   \n",
            "=================================================================\n",
            " embedding_5 (Embedding)     (None, 25, 16)            512000    \n",
            "                                                                 \n",
            " bidirectional_5 (Bidirecti  (None, 10)                880       \n",
            " onal)                                                           \n",
            "                                                                 \n",
            " dropout_42 (Dropout)        (None, 10)                0         \n",
            "                                                                 \n",
            " dense_10 (Dense)            (None, 10)                110       \n",
            "                                                                 \n",
            " dense_11 (Dense)            (None, 5)                 55        \n",
            "                                                                 \n",
            "=================================================================\n",
            "Total params: 513045 (1.96 MB)\n",
            "Trainable params: 513045 (1.96 MB)\n",
            "Non-trainable params: 0 (0.00 Byte)\n",
            "_________________________________________________________________\n"
          ]
        }
      ],
      "source": [
        "# model = tf.keras.Sequential([\n",
        "#         # tf.keras.layers.Embedding(vocab_size, embedding_dim, input_length=max_length),\n",
        "#         # tf.keras.layers.Bidirectional(tf.keras.layers.LSTM(64,return_sequences=True)),\n",
        "#         # tf.keras.layers.Bidirectional(tf.keras.layers.LSTM(32)),\n",
        "#         # tf.keras.layers.Flatten(),\n",
        "#         # tf.keras.layers.Dense(128, activation='relu'),\n",
        "#         # # tf.keras.layers.Dropout(0.2),\n",
        "#         # tf.keras.layers.Dense(64, activation='relu'),\n",
        "#         # #tf.keras.layers.Dropout(0.3),\n",
        "#         # tf.keras.layers.Dense(5, activation='softmax')\n",
        "#     ])\n",
        "\n",
        "# model = tf.keras.Sequential([\n",
        "#         tf.keras.layers.Embedding(vocab_size, embedding_dim),\n",
        "#         tf.keras.layers.Dropout(0.2),\n",
        "#         tf.keras.layers.GlobalAveragePooling1D(),\n",
        "#         tf.keras.layers.Dropout(0.2),\n",
        "#         tf.keras.layers.Dense(5, activation='softmax')\n",
        "# ])\n",
        "\n",
        "# model = tf.keras.Sequential([\n",
        "#     tf.keras.layers.Embedding(vocab_size, embedding_dim, input_length=max_length),\n",
        "#     tf.keras.layers.Bidirectional(tf.keras.layers.LSTM(32)),\n",
        "#     tf.keras.layers.Dense(24, activation=\"relu\"),\n",
        "#     tf.keras.layers.Dense(5, activation=\"softmax\")\n",
        "# ])\n",
        "\n",
        "model = tf.keras.Sequential([\n",
        "    tf.keras.layers.Embedding(vocab_size, embedding_dim, input_length=max_length),\n",
        "    tf.keras.layers.Bidirectional(tf.keras.layers.LSTM(5)),\n",
        "    tf.keras.layers.Dropout(0.5),\n",
        "    tf.keras.layers.Dense(10, activation=\"linear\"),\n",
        "    tf.keras.layers.Dense(5, activation=\"softmax\")\n",
        "])\n",
        "model.compile(loss=tf.keras.losses.CategoricalCrossentropy(), optimizer='adam',metrics=['accuracy'])\n",
        "model.summary()"
      ]
    },
    {
      "cell_type": "code",
      "execution_count": null,
      "metadata": {
        "colab": {
          "base_uri": "https://localhost:8080/"
        },
        "id": "NhfxelFQwzDh",
        "outputId": "22b61e4d-93dd-4385-b4b9-8cc5ce24fa79"
      },
      "outputs": [
        {
          "name": "stdout",
          "output_type": "stream",
          "text": [
            "Epoch 1/40\n",
            "47/47 [==============================] - 2s 36ms/step - loss: 0.0982 - accuracy: 0.9480 - val_loss: 0.1443 - val_accuracy: 0.9759\n",
            "Epoch 2/40\n",
            "47/47 [==============================] - 2s 45ms/step - loss: 0.0981 - accuracy: 0.9360 - val_loss: 0.1452 - val_accuracy: 0.9759\n",
            "Epoch 3/40\n",
            "47/47 [==============================] - 2s 52ms/step - loss: 0.1083 - accuracy: 0.9340 - val_loss: 0.1504 - val_accuracy: 0.9759\n",
            "Epoch 4/40\n",
            "47/47 [==============================] - 2s 42ms/step - loss: 0.1005 - accuracy: 0.9386 - val_loss: 0.1429 - val_accuracy: 0.9719\n",
            "Epoch 5/40\n",
            "47/47 [==============================] - 2s 36ms/step - loss: 0.1021 - accuracy: 0.9400 - val_loss: 0.1375 - val_accuracy: 0.9719\n",
            "Epoch 6/40\n",
            "47/47 [==============================] - 2s 37ms/step - loss: 0.0966 - accuracy: 0.9386 - val_loss: 0.1397 - val_accuracy: 0.9759\n",
            "Epoch 7/40\n",
            "47/47 [==============================] - 2s 39ms/step - loss: 0.1026 - accuracy: 0.9400 - val_loss: 0.1546 - val_accuracy: 0.9719\n",
            "Epoch 8/40\n",
            "47/47 [==============================] - 1s 31ms/step - loss: 0.1197 - accuracy: 0.9246 - val_loss: 0.1537 - val_accuracy: 0.9719\n",
            "Epoch 9/40\n",
            "47/47 [==============================] - 1s 22ms/step - loss: 0.1040 - accuracy: 0.9426 - val_loss: 0.1469 - val_accuracy: 0.9759\n",
            "Epoch 10/40\n",
            "47/47 [==============================] - 1s 22ms/step - loss: 0.0932 - accuracy: 0.9520 - val_loss: 0.1445 - val_accuracy: 0.9759\n",
            "Epoch 11/40\n",
            "47/47 [==============================] - 1s 29ms/step - loss: 0.0998 - accuracy: 0.9413 - val_loss: 0.1344 - val_accuracy: 0.9759\n",
            "Epoch 12/40\n",
            "47/47 [==============================] - 2s 36ms/step - loss: 0.0951 - accuracy: 0.9426 - val_loss: 0.1383 - val_accuracy: 0.9759\n",
            "Epoch 13/40\n",
            "47/47 [==============================] - 2s 33ms/step - loss: 0.1036 - accuracy: 0.9386 - val_loss: 0.1417 - val_accuracy: 0.9759\n",
            "Epoch 14/40\n",
            "47/47 [==============================] - 1s 21ms/step - loss: 0.0988 - accuracy: 0.9460 - val_loss: 0.1400 - val_accuracy: 0.9799\n",
            "Epoch 15/40\n",
            "47/47 [==============================] - 1s 21ms/step - loss: 0.1045 - accuracy: 0.9346 - val_loss: 0.1441 - val_accuracy: 0.9799\n",
            "Epoch 16/40\n",
            "47/47 [==============================] - 1s 23ms/step - loss: 0.0993 - accuracy: 0.9406 - val_loss: 0.1427 - val_accuracy: 0.9759\n",
            "Epoch 17/40\n",
            "47/47 [==============================] - 1s 22ms/step - loss: 0.0988 - accuracy: 0.9373 - val_loss: 0.1419 - val_accuracy: 0.9719\n",
            "Epoch 18/40\n",
            "47/47 [==============================] - 1s 21ms/step - loss: 0.0909 - accuracy: 0.9433 - val_loss: 0.1505 - val_accuracy: 0.9759\n",
            "Epoch 19/40\n",
            "47/47 [==============================] - 1s 22ms/step - loss: 0.0887 - accuracy: 0.9440 - val_loss: 0.1425 - val_accuracy: 0.9759\n",
            "Epoch 20/40\n",
            "47/47 [==============================] - 1s 22ms/step - loss: 0.1013 - accuracy: 0.9380 - val_loss: 0.1437 - val_accuracy: 0.9799\n",
            "Epoch 21/40\n",
            "47/47 [==============================] - 1s 22ms/step - loss: 0.0978 - accuracy: 0.9433 - val_loss: 0.1516 - val_accuracy: 0.9799\n",
            "Epoch 22/40\n",
            "47/47 [==============================] - 1s 21ms/step - loss: 0.0954 - accuracy: 0.9446 - val_loss: 0.1518 - val_accuracy: 0.9799\n",
            "Epoch 23/40\n",
            "47/47 [==============================] - 1s 27ms/step - loss: 0.0921 - accuracy: 0.9460 - val_loss: 0.1491 - val_accuracy: 0.9759\n",
            "Epoch 24/40\n",
            "47/47 [==============================] - ETA: 0s - loss: 0.0909 - accuracy: 0.9500\n",
            "Reached 80% accuracy so cancelling training!\n",
            "47/47 [==============================] - 2s 36ms/step - loss: 0.0909 - accuracy: 0.9500 - val_loss: 0.0718 - val_accuracy: 0.9799\n"
          ]
        }
      ],
      "source": [
        "history = model.fit(train_padded, train_labels,epochs=40, validation_data=(validation_padded, validation_labels), callbacks=[callbacks])\n",
        "#"
      ]
    },
    {
      "cell_type": "markdown",
      "metadata": {
        "id": "6_rYAXlBwzDh"
      },
      "source": [
        "# Plot The Accuracy and validation"
      ]
    },
    {
      "cell_type": "code",
      "execution_count": null,
      "metadata": {
        "colab": {
          "base_uri": "https://localhost:8080/",
          "height": 881
        },
        "id": "zRQI60LkwzDi",
        "outputId": "ab621a9e-5cf1-40d9-86a4-33c68ac9a840"
      },
      "outputs": [
        {
          "data": {
            "image/png": "[encoded data removed]",
            "text/plain": [
              "<Figure size 640x480 with 1 Axes>"
            ]
          },
          "metadata": {},
          "output_type": "display_data"
        },
        {
          "data": {
            "image/png": "[encoded data removed]",
            "text/plain": [
              "<Figure size 640x480 with 1 Axes>"
            ]
          },
          "metadata": {},
          "output_type": "display_data"
        }
      ],
      "source": [
        "def plot_graphs(history, metric):\n",
        "    plt.plot(history.history[metric])\n",
        "    plt.plot(history.history[f'val_{metric}'])\n",
        "    plt.xlabel(\"Epochs\")\n",
        "    plt.ylabel(metric)\n",
        "    plt.legend([metric, f'val_{metric}'])\n",
        "    plt.show()\n",
        "\n",
        "plot_graphs(history, \"accuracy\")\n",
        "plot_graphs(history, \"loss\")"
      ]
    },
    {
      "cell_type": "code",
      "execution_count": null,
      "metadata": {
        "colab": {
          "base_uri": "https://localhost:8080/"
        },
        "id": "k9nWZFy6wzDi",
        "outputId": "9fa05557-63ce-46c0-eaf4-9670628913ab"
      },
      "outputs": [
        {
          "name": "stderr",
          "output_type": "stream",
          "text": [
            "/usr/local/lib/python3.10/dist-packages/keras/src/engine/training.py:3103: UserWarning: You are saving your model as an HDF5 file via `model.save()`. This file format is considered legacy. We recommend using instead the native Keras format, e.g. `model.save('my_model.keras')`.\n",
            "  saving_api.save_model(\n"
          ]
        }
      ],
      "source": [
        "model.save(\"Model_Mihu_970709.h5\")"
      ]
    },
    {
      "cell_type": "code",
      "execution_count": null,
      "metadata": {
        "colab": {
          "base_uri": "https://localhost:8080/"
        },
        "id": "o2qX2k6MlKoK",
        "outputId": "34017697-43ae-4917-8f39-d93ad25dafdd"
      },
      "outputs": [
        {
          "data": {
            "text/plain": [
              "2075504"
            ]
          },
          "execution_count": 41,
          "metadata": {},
          "output_type": "execute_result"
        }
      ],
      "source": [
        "import pathlib\n",
        "\n",
        "file_name = \"saved_model_970709_mihu\"\n",
        "\n",
        "# Convert the model.\n",
        "converter = tf.lite.TFLiteConverter.from_keras_model(model)\n",
        "converter.target_spec.supported_ops = [tf.lite.OpsSet.TFLITE_BUILTINS, tf.lite.OpsSet.SELECT_TF_OPS]\n",
        "tflite_model = converter.convert()\n",
        "\n",
        "tflite_model_file = pathlib.Path('Model_Mihu_970709.tflite')\n",
        "tflite_model_file.write_bytes(tflite_model)"
      ]
    },
    {
      "cell_type": "code",
      "execution_count": null,
      "metadata": {
        "colab": {
          "base_uri": "https://localhost:8080/",
          "height": 35
        },
        "id": "RM9Gu0XD_qWp",
        "outputId": "7e30976b-c256-405b-b618-db651525b860"
      },
      "outputs": [
        {
          "data": {
            "application/vnd.google.colaboratory.intrinsic+json": {
              "type": "string"
            },
            "text/plain": [
              "'/content/saved_model_9713_mihu.zip'"
            ]
          },
          "execution_count": 29,
          "metadata": {},
          "output_type": "execute_result"
        }
      ],
      "source": [
        "import shutil\n",
        "\n",
        "# Specify the directory to be zipped\n",
        "folder_to_zip = file_name  # Replace this with the path to your folder\n",
        "\n",
        "# Specify the zip file name\n",
        "zip_file_name = file_name + '.zip'\n",
        "\n",
        "# Create a zip file\n",
        "shutil.make_archive(zip_file_name[:-4], 'zip', folder_to_zip)"
      ]
    },
    {
      "cell_type": "code",
      "execution_count": null,
      "metadata": {
        "colab": {
          "base_uri": "https://localhost:8080/"
        },
        "id": "4jrGqQRy2TJA",
        "outputId": "e7c7caf1-712c-4bcd-c135-24e0a3aedeb9"
      },
      "outputs": [
        {
          "name": "stdout",
          "output_type": "stream",
          "text": [
            "[[   3 3444 1507 2955 3245 7312    1    0    0    0    0    0    0    0\n",
            "     0    0    0    0    0    0    0    0    0    0    0]]\n",
            "1/1 [==============================] - 1s 904ms/step\n",
            "[[1.0685743e-02 9.8929089e-01 9.7499685e-07 2.2440972e-05 8.4349088e-09]]\n"
          ]
        }
      ],
      "source": [
        "masukan = \"benarkan televisi saya rusak\"\n",
        "\n",
        "input_data = [tokenizer(masukan)['input_ids']]\n",
        "\n",
        "input_data = pad_sequences(input_data, padding=padding, maxlen=max_length, truncating=truncate)\n",
        "\n",
        "print(input_data)\n",
        "# Prediksi\n",
        "prediction = model.predict(input_data)\n",
        "print(prediction)"
      ]
    },
    {
      "cell_type": "code",
      "execution_count": null,
      "metadata": {
        "colab": {
          "base_uri": "https://localhost:8080/"
        },
        "id": "0zhLHQHqC0ot",
        "outputId": "54132403-543d-4cbc-d4a3-f2b7f82350b3"
      },
      "outputs": [
        {
          "name": "stdout",
          "output_type": "stream",
          "text": [
            "[[  3 145 118  32   0   0   0   0   0   0   0   0   0   0   0   0   0   0\n",
            "    0   0   0   0   0   0   0]]\n",
            "1/1 [==============================] - 0s 41ms/step\n",
            "[[2.4141239e-06 3.7336578e-03 9.8077744e-01 2.7821903e-04 1.5208232e-02]]\n"
          ]
        }
      ],
      "source": [
        "#masukan = [\"air mengalir pada di dinding rumah saya\"]\n",
        "\n",
        "#masukan[0] = remove_stopwords(masukan[0])\n",
        "\n",
        "#input_data = tokenizer.texts_to_sequences(masukan)\n",
        "#input_data = pad_sequences(input_data, padding=padding, maxlen=max_length, truncating=truncate)\n",
        "\n",
        "#print(input_data)\n",
        "# Prediksi\n",
        "#prediction = model.predict(input_data)\n",
        "#print(prediction)"
      ]
    }
  ],
  "metadata": {
    "colab": {
      "provenance": []
    },
    "kernelspec": {
      "display_name": "Python 3",
      "language": "python",
      "name": "python3"
    },
    "language_info": {
      "codemirror_mode": {
        "name": "ipython",
        "version": 3
      },
      "file_extension": ".py",
      "mimetype": "text/x-python",
      "name": "python",
      "nbconvert_exporter": "python",
      "pygments_lexer": "ipython3",
      "version": "3.10.8"
    },
    "widgets": {
      "application/vnd.jupyter.widget-state+json": {
        "000ece91d54a489abe7088f1436bedc9": {
          "model_module": "@jupyter-widgets/controls",
          "model_module_version": "1.5.0",
          "model_name": "ProgressStyleModel",
          "state": {
            "_model_module": "@jupyter-widgets/controls",
            "_model_module_version": "1.5.0",
            "_model_name": "ProgressStyleModel",
            "_view_count": null,
            "_view_module": "@jupyter-widgets/base",
            "_view_module_version": "1.2.0",
            "_view_name": "StyleView",
            "bar_color": null,
            "description_width": ""
          }
        },
        "05fcf7d208dd4a71998cec3b3095938d": {
          "model_module": "@jupyter-widgets/base",
          "model_module_version": "1.2.0",
          "model_name": "LayoutModel",
          "state": {
            "_model_module": "@jupyter-widgets/base",
            "_model_module_version": "1.2.0",
            "_model_name": "LayoutModel",
            "_view_count": null,
            "_view_module": "@jupyter-widgets/base",
            "_view_module_version": "1.2.0",
            "_view_name": "LayoutView",
            "align_content": null,
            "align_items": null,
            "align_self": null,
            "border": null,
            "bottom": null,
            "display": null,
            "flex": null,
            "flex_flow": null,
            "grid_area": null,
            "grid_auto_columns": null,
            "grid_auto_flow": null,
            "grid_auto_rows": null,
            "grid_column": null,
            "grid_gap": null,
            "grid_row": null,
            "grid_template_areas": null,
            "grid_template_columns": null,
            "grid_template_rows": null,
            "height": null,
            "justify_content": null,
            "justify_items": null,
            "left": null,
            "margin": null,
            "max_height": null,
            "max_width": null,
            "min_height": null,
            "min_width": null,
            "object_fit": null,
            "object_position": null,
            "order": null,
            "overflow": null,
            "overflow_x": null,
            "overflow_y": null,
            "padding": null,
            "right": null,
            "top": null,
            "visibility": null,
            "width": null
          }
        },
        "075d822b218642f69ac5885b82c5de28": {
          "model_module": "@jupyter-widgets/controls",
          "model_module_version": "1.5.0",
          "model_name": "DescriptionStyleModel",
          "state": {
            "_model_module": "@jupyter-widgets/controls",
            "_model_module_version": "1.5.0",
            "_model_name": "DescriptionStyleModel",
            "_view_count": null,
            "_view_module": "@jupyter-widgets/base",
            "_view_module_version": "1.2.0",
            "_view_name": "StyleView",
            "description_width": ""
          }
        },
        "16227931199b4abe84faf68f1eea1d2c": {
          "model_module": "@jupyter-widgets/controls",
          "model_module_version": "1.5.0",
          "model_name": "HTMLModel",
          "state": {
            "_dom_classes": [],
            "_model_module": "@jupyter-widgets/controls",
            "_model_module_version": "1.5.0",
            "_model_name": "HTMLModel",
            "_view_count": null,
            "_view_module": "@jupyter-widgets/controls",
            "_view_module_version": "1.5.0",
            "_view_name": "HTMLView",
            "description": "",
            "description_tooltip": null,
            "layout": "IPY_MODEL_6c7610f3d2664579a23fc996303dc9c0",
            "placeholder": "​",
            "style": "IPY_MODEL_075d822b218642f69ac5885b82c5de28",
            "value": " 62.0/62.0 [00:00&lt;00:00, 1.06kB/s]"
          }
        },
        "1a9e412008b8424981ce8eed49393926": {
          "model_module": "@jupyter-widgets/controls",
          "model_module_version": "1.5.0",
          "model_name": "ProgressStyleModel",
          "state": {
            "_model_module": "@jupyter-widgets/controls",
            "_model_module_version": "1.5.0",
            "_model_name": "ProgressStyleModel",
            "_view_count": null,
            "_view_module": "@jupyter-widgets/base",
            "_view_module_version": "1.2.0",
            "_view_name": "StyleView",
            "bar_color": null,
            "description_width": ""
          }
        },
        "210f7208a51249b5b75ac51973cd4c01": {
          "model_module": "@jupyter-widgets/controls",
          "model_module_version": "1.5.0",
          "model_name": "DescriptionStyleModel",
          "state": {
            "_model_module": "@jupyter-widgets/controls",
            "_model_module_version": "1.5.0",
            "_model_name": "DescriptionStyleModel",
            "_view_count": null,
            "_view_module": "@jupyter-widgets/base",
            "_view_module_version": "1.2.0",
            "_view_name": "StyleView",
            "description_width": ""
          }
        },
        "25c5d9c5162244418907c25248dd2e89": {
          "model_module": "@jupyter-widgets/controls",
          "model_module_version": "1.5.0",
          "model_name": "FloatProgressModel",
          "state": {
            "_dom_classes": [],
            "_model_module": "@jupyter-widgets/controls",
            "_model_module_version": "1.5.0",
            "_model_name": "FloatProgressModel",
            "_view_count": null,
            "_view_module": "@jupyter-widgets/controls",
            "_view_module_version": "1.5.0",
            "_view_name": "ProgressView",
            "bar_style": "success",
            "description": "",
            "description_tooltip": null,
            "layout": "IPY_MODEL_81e2de6814a449e384d65c7ef4f7e04f",
            "max": 468,
            "min": 0,
            "orientation": "horizontal",
            "style": "IPY_MODEL_1a9e412008b8424981ce8eed49393926",
            "value": 468
          }
        },
        "2c9d7715012b4b8cb43db167831644dc": {
          "model_module": "@jupyter-widgets/controls",
          "model_module_version": "1.5.0",
          "model_name": "DescriptionStyleModel",
          "state": {
            "_model_module": "@jupyter-widgets/controls",
            "_model_module_version": "1.5.0",
            "_model_name": "DescriptionStyleModel",
            "_view_count": null,
            "_view_module": "@jupyter-widgets/base",
            "_view_module_version": "1.2.0",
            "_view_name": "StyleView",
            "description_width": ""
          }
        },
        "3210fd5ac0d54f30aa785d23056506fe": {
          "model_module": "@jupyter-widgets/controls",
          "model_module_version": "1.5.0",
          "model_name": "HTMLModel",
          "state": {
            "_dom_classes": [],
            "_model_module": "@jupyter-widgets/controls",
            "_model_module_version": "1.5.0",
            "_model_name": "HTMLModel",
            "_view_count": null,
            "_view_module": "@jupyter-widgets/controls",
            "_view_module_version": "1.5.0",
            "_view_name": "HTMLView",
            "description": "",
            "description_tooltip": null,
            "layout": "IPY_MODEL_fe31a390efb946179be73ce871ba5d7f",
            "placeholder": "​",
            "style": "IPY_MODEL_61d15a16bd664d41bef036e63afb161c",
            "value": "tokenizer_config.json: 100%"
          }
        },
        "3500b548afaa4c6491120f66fa319592": {
          "model_module": "@jupyter-widgets/controls",
          "model_module_version": "1.5.0",
          "model_name": "DescriptionStyleModel",
          "state": {
            "_model_module": "@jupyter-widgets/controls",
            "_model_module_version": "1.5.0",
            "_model_name": "DescriptionStyleModel",
            "_view_count": null,
            "_view_module": "@jupyter-widgets/base",
            "_view_module_version": "1.2.0",
            "_view_name": "StyleView",
            "description_width": ""
          }
        },
        "38a54cca092545cc98bc069b6db6a450": {
          "model_module": "@jupyter-widgets/base",
          "model_module_version": "1.2.0",
          "model_name": "LayoutModel",
          "state": {
            "_model_module": "@jupyter-widgets/base",
            "_model_module_version": "1.2.0",
            "_model_name": "LayoutModel",
            "_view_count": null,
            "_view_module": "@jupyter-widgets/base",
            "_view_module_version": "1.2.0",
            "_view_name": "LayoutView",
            "align_content": null,
            "align_items": null,
            "align_self": null,
            "border": null,
            "bottom": null,
            "display": null,
            "flex": null,
            "flex_flow": null,
            "grid_area": null,
            "grid_auto_columns": null,
            "grid_auto_flow": null,
            "grid_auto_rows": null,
            "grid_column": null,
            "grid_gap": null,
            "grid_row": null,
            "grid_template_areas": null,
            "grid_template_columns": null,
            "grid_template_rows": null,
            "height": null,
            "justify_content": null,
            "justify_items": null,
            "left": null,
            "margin": null,
            "max_height": null,
            "max_width": null,
            "min_height": null,
            "min_width": null,
            "object_fit": null,
            "object_position": null,
            "order": null,
            "overflow": null,
            "overflow_x": null,
            "overflow_y": null,
            "padding": null,
            "right": null,
            "top": null,
            "visibility": null,
            "width": null
          }
        },
        "3ad6a8771e9a471c80b8ad04bed6bb07": {
          "model_module": "@jupyter-widgets/controls",
          "model_module_version": "1.5.0",
          "model_name": "DescriptionStyleModel",
          "state": {
            "_model_module": "@jupyter-widgets/controls",
            "_model_module_version": "1.5.0",
            "_model_name": "DescriptionStyleModel",
            "_view_count": null,
            "_view_module": "@jupyter-widgets/base",
            "_view_module_version": "1.2.0",
            "_view_name": "StyleView",
            "description_width": ""
          }
        },
        "464bf8c6dcfb4cb48da358808302631f": {
          "model_module": "@jupyter-widgets/controls",
          "model_module_version": "1.5.0",
          "model_name": "HTMLModel",
          "state": {
            "_dom_classes": [],
            "_model_module": "@jupyter-widgets/controls",
            "_model_module_version": "1.5.0",
            "_model_name": "HTMLModel",
            "_view_count": null,
            "_view_module": "@jupyter-widgets/controls",
            "_view_module_version": "1.5.0",
            "_view_name": "HTMLView",
            "description": "",
            "description_tooltip": null,
            "layout": "IPY_MODEL_5bf384c2c663445e9c25f2d457594d53",
            "placeholder": "​",
            "style": "IPY_MODEL_3500b548afaa4c6491120f66fa319592",
            "value": " 112/112 [00:00&lt;00:00, 3.24kB/s]"
          }
        },
        "4ce251ccfb2a4f19a5c2f9f8d1da9420": {
          "model_module": "@jupyter-widgets/controls",
          "model_module_version": "1.5.0",
          "model_name": "ProgressStyleModel",
          "state": {
            "_model_module": "@jupyter-widgets/controls",
            "_model_module_version": "1.5.0",
            "_model_name": "ProgressStyleModel",
            "_view_count": null,
            "_view_module": "@jupyter-widgets/base",
            "_view_module_version": "1.2.0",
            "_view_name": "StyleView",
            "bar_color": null,
            "description_width": ""
          }
        },
        "4f245700ff1a493e90eeaaa7120c49e8": {
          "model_module": "@jupyter-widgets/controls",
          "model_module_version": "1.5.0",
          "model_name": "HTMLModel",
          "state": {
            "_dom_classes": [],
            "_model_module": "@jupyter-widgets/controls",
            "_model_module_version": "1.5.0",
            "_model_name": "HTMLModel",
            "_view_count": null,
            "_view_module": "@jupyter-widgets/controls",
            "_view_module_version": "1.5.0",
            "_view_name": "HTMLView",
            "description": "",
            "description_tooltip": null,
            "layout": "IPY_MODEL_e22afc1274f945cbaff82e439a570be3",
            "placeholder": "​",
            "style": "IPY_MODEL_210f7208a51249b5b75ac51973cd4c01",
            "value": " 230k/230k [00:00&lt;00:00, 1.36MB/s]"
          }
        },
        "5012f692c9d7444d9a10b9e3506dd6c4": {
          "model_module": "@jupyter-widgets/controls",
          "model_module_version": "1.5.0",
          "model_name": "DescriptionStyleModel",
          "state": {
            "_model_module": "@jupyter-widgets/controls",
            "_model_module_version": "1.5.0",
            "_model_name": "DescriptionStyleModel",
            "_view_count": null,
            "_view_module": "@jupyter-widgets/base",
            "_view_module_version": "1.2.0",
            "_view_name": "StyleView",
            "description_width": ""
          }
        },
        "55d281c125c14d579ddec609d547bf12": {
          "model_module": "@jupyter-widgets/controls",
          "model_module_version": "1.5.0",
          "model_name": "HBoxModel",
          "state": {
            "_dom_classes": [],
            "_model_module": "@jupyter-widgets/controls",
            "_model_module_version": "1.5.0",
            "_model_name": "HBoxModel",
            "_view_count": null,
            "_view_module": "@jupyter-widgets/controls",
            "_view_module_version": "1.5.0",
            "_view_name": "HBoxView",
            "box_style": "",
            "children": [
              "IPY_MODEL_3210fd5ac0d54f30aa785d23056506fe",
              "IPY_MODEL_d5f04a430ecd443bbbcba184f41800f0",
              "IPY_MODEL_16227931199b4abe84faf68f1eea1d2c"
            ],
            "layout": "IPY_MODEL_d0fe96cd01764a10b2641076ff708a18"
          }
        },
        "5bf384c2c663445e9c25f2d457594d53": {
          "model_module": "@jupyter-widgets/base",
          "model_module_version": "1.2.0",
          "model_name": "LayoutModel",
          "state": {
            "_model_module": "@jupyter-widgets/base",
            "_model_module_version": "1.2.0",
            "_model_name": "LayoutModel",
            "_view_count": null,
            "_view_module": "@jupyter-widgets/base",
            "_view_module_version": "1.2.0",
            "_view_name": "LayoutView",
            "align_content": null,
            "align_items": null,
            "align_self": null,
            "border": null,
            "bottom": null,
            "display": null,
            "flex": null,
            "flex_flow": null,
            "grid_area": null,
            "grid_auto_columns": null,
            "grid_auto_flow": null,
            "grid_auto_rows": null,
            "grid_column": null,
            "grid_gap": null,
            "grid_row": null,
            "grid_template_areas": null,
            "grid_template_columns": null,
            "grid_template_rows": null,
            "height": null,
            "justify_content": null,
            "justify_items": null,
            "left": null,
            "margin": null,
            "max_height": null,
            "max_width": null,
            "min_height": null,
            "min_width": null,
            "object_fit": null,
            "object_position": null,
            "order": null,
            "overflow": null,
            "overflow_x": null,
            "overflow_y": null,
            "padding": null,
            "right": null,
            "top": null,
            "visibility": null,
            "width": null
          }
        },
        "6038fc3c25c64a9c99868101fffd32d4": {
          "model_module": "@jupyter-widgets/controls",
          "model_module_version": "1.5.0",
          "model_name": "HTMLModel",
          "state": {
            "_dom_classes": [],
            "_model_module": "@jupyter-widgets/controls",
            "_model_module_version": "1.5.0",
            "_model_name": "HTMLModel",
            "_view_count": null,
            "_view_module": "@jupyter-widgets/controls",
            "_view_module_version": "1.5.0",
            "_view_name": "HTMLView",
            "description": "",
            "description_tooltip": null,
            "layout": "IPY_MODEL_d662f5099c2c478a828720b724c343a3",
            "placeholder": "​",
            "style": "IPY_MODEL_628655d390dc483b8e6f5dddad3fc18c",
            "value": "tf_model.h5: 100%"
          }
        },
        "61d15a16bd664d41bef036e63afb161c": {
          "model_module": "@jupyter-widgets/controls",
          "model_module_version": "1.5.0",
          "model_name": "DescriptionStyleModel",
          "state": {
            "_model_module": "@jupyter-widgets/controls",
            "_model_module_version": "1.5.0",
            "_model_name": "DescriptionStyleModel",
            "_view_count": null,
            "_view_module": "@jupyter-widgets/base",
            "_view_module_version": "1.2.0",
            "_view_name": "StyleView",
            "description_width": ""
          }
        },
        "628655d390dc483b8e6f5dddad3fc18c": {
          "model_module": "@jupyter-widgets/controls",
          "model_module_version": "1.5.0",
          "model_name": "DescriptionStyleModel",
          "state": {
            "_model_module": "@jupyter-widgets/controls",
            "_model_module_version": "1.5.0",
            "_model_name": "DescriptionStyleModel",
            "_view_count": null,
            "_view_module": "@jupyter-widgets/base",
            "_view_module_version": "1.2.0",
            "_view_name": "StyleView",
            "description_width": ""
          }
        },
        "6413873d4c584265a52ff49359bacac9": {
          "model_module": "@jupyter-widgets/controls",
          "model_module_version": "1.5.0",
          "model_name": "HTMLModel",
          "state": {
            "_dom_classes": [],
            "_model_module": "@jupyter-widgets/controls",
            "_model_module_version": "1.5.0",
            "_model_name": "HTMLModel",
            "_view_count": null,
            "_view_module": "@jupyter-widgets/controls",
            "_view_module_version": "1.5.0",
            "_view_name": "HTMLView",
            "description": "",
            "description_tooltip": null,
            "layout": "IPY_MODEL_38a54cca092545cc98bc069b6db6a450",
            "placeholder": "​",
            "style": "IPY_MODEL_5012f692c9d7444d9a10b9e3506dd6c4",
            "value": "config.json: 100%"
          }
        },
        "66965fdabb024e24bc9706da3de02ff6": {
          "model_module": "@jupyter-widgets/base",
          "model_module_version": "1.2.0",
          "model_name": "LayoutModel",
          "state": {
            "_model_module": "@jupyter-widgets/base",
            "_model_module_version": "1.2.0",
            "_model_name": "LayoutModel",
            "_view_count": null,
            "_view_module": "@jupyter-widgets/base",
            "_view_module_version": "1.2.0",
            "_view_name": "LayoutView",
            "align_content": null,
            "align_items": null,
            "align_self": null,
            "border": null,
            "bottom": null,
            "display": null,
            "flex": null,
            "flex_flow": null,
            "grid_area": null,
            "grid_auto_columns": null,
            "grid_auto_flow": null,
            "grid_auto_rows": null,
            "grid_column": null,
            "grid_gap": null,
            "grid_row": null,
            "grid_template_areas": null,
            "grid_template_columns": null,
            "grid_template_rows": null,
            "height": null,
            "justify_content": null,
            "justify_items": null,
            "left": null,
            "margin": null,
            "max_height": null,
            "max_width": null,
            "min_height": null,
            "min_width": null,
            "object_fit": null,
            "object_position": null,
            "order": null,
            "overflow": null,
            "overflow_x": null,
            "overflow_y": null,
            "padding": null,
            "right": null,
            "top": null,
            "visibility": null,
            "width": null
          }
        },
        "6c7610f3d2664579a23fc996303dc9c0": {
          "model_module": "@jupyter-widgets/base",
          "model_module_version": "1.2.0",
          "model_name": "LayoutModel",
          "state": {
            "_model_module": "@jupyter-widgets/base",
            "_model_module_version": "1.2.0",
            "_model_name": "LayoutModel",
            "_view_count": null,
            "_view_module": "@jupyter-widgets/base",
            "_view_module_version": "1.2.0",
            "_view_name": "LayoutView",
            "align_content": null,
            "align_items": null,
            "align_self": null,
            "border": null,
            "bottom": null,
            "display": null,
            "flex": null,
            "flex_flow": null,
            "grid_area": null,
            "grid_auto_columns": null,
            "grid_auto_flow": null,
            "grid_auto_rows": null,
            "grid_column": null,
            "grid_gap": null,
            "grid_row": null,
            "grid_template_areas": null,
            "grid_template_columns": null,
            "grid_template_rows": null,
            "height": null,
            "justify_content": null,
            "justify_items": null,
            "left": null,
            "margin": null,
            "max_height": null,
            "max_width": null,
            "min_height": null,
            "min_width": null,
            "object_fit": null,
            "object_position": null,
            "order": null,
            "overflow": null,
            "overflow_x": null,
            "overflow_y": null,
            "padding": null,
            "right": null,
            "top": null,
            "visibility": null,
            "width": null
          }
        },
        "7a16b724ae0d41a8a6781cc66696798b": {
          "model_module": "@jupyter-widgets/base",
          "model_module_version": "1.2.0",
          "model_name": "LayoutModel",
          "state": {
            "_model_module": "@jupyter-widgets/base",
            "_model_module_version": "1.2.0",
            "_model_name": "LayoutModel",
            "_view_count": null,
            "_view_module": "@jupyter-widgets/base",
            "_view_module_version": "1.2.0",
            "_view_name": "LayoutView",
            "align_content": null,
            "align_items": null,
            "align_self": null,
            "border": null,
            "bottom": null,
            "display": null,
            "flex": null,
            "flex_flow": null,
            "grid_area": null,
            "grid_auto_columns": null,
            "grid_auto_flow": null,
            "grid_auto_rows": null,
            "grid_column": null,
            "grid_gap": null,
            "grid_row": null,
            "grid_template_areas": null,
            "grid_template_columns": null,
            "grid_template_rows": null,
            "height": null,
            "justify_content": null,
            "justify_items": null,
            "left": null,
            "margin": null,
            "max_height": null,
            "max_width": null,
            "min_height": null,
            "min_width": null,
            "object_fit": null,
            "object_position": null,
            "order": null,
            "overflow": null,
            "overflow_x": null,
            "overflow_y": null,
            "padding": null,
            "right": null,
            "top": null,
            "visibility": null,
            "width": null
          }
        },
        "81e2de6814a449e384d65c7ef4f7e04f": {
          "model_module": "@jupyter-widgets/base",
          "model_module_version": "1.2.0",
          "model_name": "LayoutModel",
          "state": {
            "_model_module": "@jupyter-widgets/base",
            "_model_module_version": "1.2.0",
            "_model_name": "LayoutModel",
            "_view_count": null,
            "_view_module": "@jupyter-widgets/base",
            "_view_module_version": "1.2.0",
            "_view_name": "LayoutView",
            "align_content": null,
            "align_items": null,
            "align_self": null,
            "border": null,
            "bottom": null,
            "display": null,
            "flex": null,
            "flex_flow": null,
            "grid_area": null,
            "grid_auto_columns": null,
            "grid_auto_flow": null,
            "grid_auto_rows": null,
            "grid_column": null,
            "grid_gap": null,
            "grid_row": null,
            "grid_template_areas": null,
            "grid_template_columns": null,
            "grid_template_rows": null,
            "height": null,
            "justify_content": null,
            "justify_items": null,
            "left": null,
            "margin": null,
            "max_height": null,
            "max_width": null,
            "min_height": null,
            "min_width": null,
            "object_fit": null,
            "object_position": null,
            "order": null,
            "overflow": null,
            "overflow_x": null,
            "overflow_y": null,
            "padding": null,
            "right": null,
            "top": null,
            "visibility": null,
            "width": null
          }
        },
        "83b64695922648c6831bf26fcf240932": {
          "model_module": "@jupyter-widgets/base",
          "model_module_version": "1.2.0",
          "model_name": "LayoutModel",
          "state": {
            "_model_module": "@jupyter-widgets/base",
            "_model_module_version": "1.2.0",
            "_model_name": "LayoutModel",
            "_view_count": null,
            "_view_module": "@jupyter-widgets/base",
            "_view_module_version": "1.2.0",
            "_view_name": "LayoutView",
            "align_content": null,
            "align_items": null,
            "align_self": null,
            "border": null,
            "bottom": null,
            "display": null,
            "flex": null,
            "flex_flow": null,
            "grid_area": null,
            "grid_auto_columns": null,
            "grid_auto_flow": null,
            "grid_auto_rows": null,
            "grid_column": null,
            "grid_gap": null,
            "grid_row": null,
            "grid_template_areas": null,
            "grid_template_columns": null,
            "grid_template_rows": null,
            "height": null,
            "justify_content": null,
            "justify_items": null,
            "left": null,
            "margin": null,
            "max_height": null,
            "max_width": null,
            "min_height": null,
            "min_width": null,
            "object_fit": null,
            "object_position": null,
            "order": null,
            "overflow": null,
            "overflow_x": null,
            "overflow_y": null,
            "padding": null,
            "right": null,
            "top": null,
            "visibility": null,
            "width": null
          }
        },
        "86e9c5c9169542eaba970714121ab919": {
          "model_module": "@jupyter-widgets/controls",
          "model_module_version": "1.5.0",
          "model_name": "DescriptionStyleModel",
          "state": {
            "_model_module": "@jupyter-widgets/controls",
            "_model_module_version": "1.5.0",
            "_model_name": "DescriptionStyleModel",
            "_view_count": null,
            "_view_module": "@jupyter-widgets/base",
            "_view_module_version": "1.2.0",
            "_view_name": "StyleView",
            "description_width": ""
          }
        },
        "8844bcda033845f79f222ab38225bed3": {
          "model_module": "@jupyter-widgets/controls",
          "model_module_version": "1.5.0",
          "model_name": "HBoxModel",
          "state": {
            "_dom_classes": [],
            "_model_module": "@jupyter-widgets/controls",
            "_model_module_version": "1.5.0",
            "_model_name": "HBoxModel",
            "_view_count": null,
            "_view_module": "@jupyter-widgets/controls",
            "_view_module_version": "1.5.0",
            "_view_name": "HBoxView",
            "box_style": "",
            "children": [
              "IPY_MODEL_ca37a07ea96b4a1d807b31607d287fd0",
              "IPY_MODEL_d023f21aa84e4c8ca0b306efce1c762d",
              "IPY_MODEL_464bf8c6dcfb4cb48da358808302631f"
            ],
            "layout": "IPY_MODEL_96622adfd3154339b2f75237255e5f61"
          }
        },
        "8c643c26eded4f079635a8a91bee3167": {
          "model_module": "@jupyter-widgets/controls",
          "model_module_version": "1.5.0",
          "model_name": "HBoxModel",
          "state": {
            "_dom_classes": [],
            "_model_module": "@jupyter-widgets/controls",
            "_model_module_version": "1.5.0",
            "_model_name": "HBoxModel",
            "_view_count": null,
            "_view_module": "@jupyter-widgets/controls",
            "_view_module_version": "1.5.0",
            "_view_name": "HBoxView",
            "box_style": "",
            "children": [
              "IPY_MODEL_6038fc3c25c64a9c99868101fffd32d4",
              "IPY_MODEL_f83e7efa9c424840962115a432164285",
              "IPY_MODEL_98f0eca9f73e4224a5a29829b5c1ba07"
            ],
            "layout": "IPY_MODEL_c35d0d464e5e49be9937517dd8bb5a0b"
          }
        },
        "8deb0ee243724ffe8d921be537eab8be": {
          "model_module": "@jupyter-widgets/base",
          "model_module_version": "1.2.0",
          "model_name": "LayoutModel",
          "state": {
            "_model_module": "@jupyter-widgets/base",
            "_model_module_version": "1.2.0",
            "_model_name": "LayoutModel",
            "_view_count": null,
            "_view_module": "@jupyter-widgets/base",
            "_view_module_version": "1.2.0",
            "_view_name": "LayoutView",
            "align_content": null,
            "align_items": null,
            "align_self": null,
            "border": null,
            "bottom": null,
            "display": null,
            "flex": null,
            "flex_flow": null,
            "grid_area": null,
            "grid_auto_columns": null,
            "grid_auto_flow": null,
            "grid_auto_rows": null,
            "grid_column": null,
            "grid_gap": null,
            "grid_row": null,
            "grid_template_areas": null,
            "grid_template_columns": null,
            "grid_template_rows": null,
            "height": null,
            "justify_content": null,
            "justify_items": null,
            "left": null,
            "margin": null,
            "max_height": null,
            "max_width": null,
            "min_height": null,
            "min_width": null,
            "object_fit": null,
            "object_position": null,
            "order": null,
            "overflow": null,
            "overflow_x": null,
            "overflow_y": null,
            "padding": null,
            "right": null,
            "top": null,
            "visibility": null,
            "width": null
          }
        },
        "925e64ea18e849889ea1e75845c709e6": {
          "model_module": "@jupyter-widgets/base",
          "model_module_version": "1.2.0",
          "model_name": "LayoutModel",
          "state": {
            "_model_module": "@jupyter-widgets/base",
            "_model_module_version": "1.2.0",
            "_model_name": "LayoutModel",
            "_view_count": null,
            "_view_module": "@jupyter-widgets/base",
            "_view_module_version": "1.2.0",
            "_view_name": "LayoutView",
            "align_content": null,
            "align_items": null,
            "align_self": null,
            "border": null,
            "bottom": null,
            "display": null,
            "flex": null,
            "flex_flow": null,
            "grid_area": null,
            "grid_auto_columns": null,
            "grid_auto_flow": null,
            "grid_auto_rows": null,
            "grid_column": null,
            "grid_gap": null,
            "grid_row": null,
            "grid_template_areas": null,
            "grid_template_columns": null,
            "grid_template_rows": null,
            "height": null,
            "justify_content": null,
            "justify_items": null,
            "left": null,
            "margin": null,
            "max_height": null,
            "max_width": null,
            "min_height": null,
            "min_width": null,
            "object_fit": null,
            "object_position": null,
            "order": null,
            "overflow": null,
            "overflow_x": null,
            "overflow_y": null,
            "padding": null,
            "right": null,
            "top": null,
            "visibility": null,
            "width": null
          }
        },
        "96622adfd3154339b2f75237255e5f61": {
          "model_module": "@jupyter-widgets/base",
          "model_module_version": "1.2.0",
          "model_name": "LayoutModel",
          "state": {
            "_model_module": "@jupyter-widgets/base",
            "_model_module_version": "1.2.0",
            "_model_name": "LayoutModel",
            "_view_count": null,
            "_view_module": "@jupyter-widgets/base",
            "_view_module_version": "1.2.0",
            "_view_name": "LayoutView",
            "align_content": null,
            "align_items": null,
            "align_self": null,
            "border": null,
            "bottom": null,
            "display": null,
            "flex": null,
            "flex_flow": null,
            "grid_area": null,
            "grid_auto_columns": null,
            "grid_auto_flow": null,
            "grid_auto_rows": null,
            "grid_column": null,
            "grid_gap": null,
            "grid_row": null,
            "grid_template_areas": null,
            "grid_template_columns": null,
            "grid_template_rows": null,
            "height": null,
            "justify_content": null,
            "justify_items": null,
            "left": null,
            "margin": null,
            "max_height": null,
            "max_width": null,
            "min_height": null,
            "min_width": null,
            "object_fit": null,
            "object_position": null,
            "order": null,
            "overflow": null,
            "overflow_x": null,
            "overflow_y": null,
            "padding": null,
            "right": null,
            "top": null,
            "visibility": null,
            "width": null
          }
        },
        "98bfd741acdc4d9b9ee34be93004f240": {
          "model_module": "@jupyter-widgets/controls",
          "model_module_version": "1.5.0",
          "model_name": "ProgressStyleModel",
          "state": {
            "_model_module": "@jupyter-widgets/controls",
            "_model_module_version": "1.5.0",
            "_model_name": "ProgressStyleModel",
            "_view_count": null,
            "_view_module": "@jupyter-widgets/base",
            "_view_module_version": "1.2.0",
            "_view_name": "StyleView",
            "bar_color": null,
            "description_width": ""
          }
        },
        "98f0eca9f73e4224a5a29829b5c1ba07": {
          "model_module": "@jupyter-widgets/controls",
          "model_module_version": "1.5.0",
          "model_name": "HTMLModel",
          "state": {
            "_dom_classes": [],
            "_model_module": "@jupyter-widgets/controls",
            "_model_module_version": "1.5.0",
            "_model_name": "HTMLModel",
            "_view_count": null,
            "_view_module": "@jupyter-widgets/controls",
            "_view_module_version": "1.5.0",
            "_view_name": "HTMLView",
            "description": "",
            "description_tooltip": null,
            "layout": "IPY_MODEL_05fcf7d208dd4a71998cec3b3095938d",
            "placeholder": "​",
            "style": "IPY_MODEL_86e9c5c9169542eaba970714121ab919",
            "value": " 545M/545M [00:06&lt;00:00, 106MB/s]"
          }
        },
        "b726fba8ccc14398a1f48c74d2041cf2": {
          "model_module": "@jupyter-widgets/controls",
          "model_module_version": "1.5.0",
          "model_name": "HBoxModel",
          "state": {
            "_dom_classes": [],
            "_model_module": "@jupyter-widgets/controls",
            "_model_module_version": "1.5.0",
            "_model_name": "HBoxModel",
            "_view_count": null,
            "_view_module": "@jupyter-widgets/controls",
            "_view_module_version": "1.5.0",
            "_view_name": "HBoxView",
            "box_style": "",
            "children": [
              "IPY_MODEL_dd630b85563d4516ba5eba98510e020b",
              "IPY_MODEL_fd1d672ab7e24dcd9066a4b9820d47be",
              "IPY_MODEL_4f245700ff1a493e90eeaaa7120c49e8"
            ],
            "layout": "IPY_MODEL_7a16b724ae0d41a8a6781cc66696798b"
          }
        },
        "b77452568c6d444dbe06717129eea209": {
          "model_module": "@jupyter-widgets/controls",
          "model_module_version": "1.5.0",
          "model_name": "ProgressStyleModel",
          "state": {
            "_model_module": "@jupyter-widgets/controls",
            "_model_module_version": "1.5.0",
            "_model_name": "ProgressStyleModel",
            "_view_count": null,
            "_view_module": "@jupyter-widgets/base",
            "_view_module_version": "1.2.0",
            "_view_name": "StyleView",
            "bar_color": null,
            "description_width": ""
          }
        },
        "b83b019ff7e54d9eb782d3507c011b33": {
          "model_module": "@jupyter-widgets/controls",
          "model_module_version": "1.5.0",
          "model_name": "HBoxModel",
          "state": {
            "_dom_classes": [],
            "_model_module": "@jupyter-widgets/controls",
            "_model_module_version": "1.5.0",
            "_model_name": "HBoxModel",
            "_view_count": null,
            "_view_module": "@jupyter-widgets/controls",
            "_view_module_version": "1.5.0",
            "_view_name": "HBoxView",
            "box_style": "",
            "children": [
              "IPY_MODEL_6413873d4c584265a52ff49359bacac9",
              "IPY_MODEL_25c5d9c5162244418907c25248dd2e89",
              "IPY_MODEL_c79d0d35cf0747a7a2a4b0932ff29d6e"
            ],
            "layout": "IPY_MODEL_ea40c1cef83e465e8e9ec27ea7d9f6ac"
          }
        },
        "bbac66fb2e094a26a80ad918f5b533b1": {
          "model_module": "@jupyter-widgets/base",
          "model_module_version": "1.2.0",
          "model_name": "LayoutModel",
          "state": {
            "_model_module": "@jupyter-widgets/base",
            "_model_module_version": "1.2.0",
            "_model_name": "LayoutModel",
            "_view_count": null,
            "_view_module": "@jupyter-widgets/base",
            "_view_module_version": "1.2.0",
            "_view_name": "LayoutView",
            "align_content": null,
            "align_items": null,
            "align_self": null,
            "border": null,
            "bottom": null,
            "display": null,
            "flex": null,
            "flex_flow": null,
            "grid_area": null,
            "grid_auto_columns": null,
            "grid_auto_flow": null,
            "grid_auto_rows": null,
            "grid_column": null,
            "grid_gap": null,
            "grid_row": null,
            "grid_template_areas": null,
            "grid_template_columns": null,
            "grid_template_rows": null,
            "height": null,
            "justify_content": null,
            "justify_items": null,
            "left": null,
            "margin": null,
            "max_height": null,
            "max_width": null,
            "min_height": null,
            "min_width": null,
            "object_fit": null,
            "object_position": null,
            "order": null,
            "overflow": null,
            "overflow_x": null,
            "overflow_y": null,
            "padding": null,
            "right": null,
            "top": null,
            "visibility": null,
            "width": null
          }
        },
        "c35d0d464e5e49be9937517dd8bb5a0b": {
          "model_module": "@jupyter-widgets/base",
          "model_module_version": "1.2.0",
          "model_name": "LayoutModel",
          "state": {
            "_model_module": "@jupyter-widgets/base",
            "_model_module_version": "1.2.0",
            "_model_name": "LayoutModel",
            "_view_count": null,
            "_view_module": "@jupyter-widgets/base",
            "_view_module_version": "1.2.0",
            "_view_name": "LayoutView",
            "align_content": null,
            "align_items": null,
            "align_self": null,
            "border": null,
            "bottom": null,
            "display": null,
            "flex": null,
            "flex_flow": null,
            "grid_area": null,
            "grid_auto_columns": null,
            "grid_auto_flow": null,
            "grid_auto_rows": null,
            "grid_column": null,
            "grid_gap": null,
            "grid_row": null,
            "grid_template_areas": null,
            "grid_template_columns": null,
            "grid_template_rows": null,
            "height": null,
            "justify_content": null,
            "justify_items": null,
            "left": null,
            "margin": null,
            "max_height": null,
            "max_width": null,
            "min_height": null,
            "min_width": null,
            "object_fit": null,
            "object_position": null,
            "order": null,
            "overflow": null,
            "overflow_x": null,
            "overflow_y": null,
            "padding": null,
            "right": null,
            "top": null,
            "visibility": null,
            "width": null
          }
        },
        "c79d0d35cf0747a7a2a4b0932ff29d6e": {
          "model_module": "@jupyter-widgets/controls",
          "model_module_version": "1.5.0",
          "model_name": "HTMLModel",
          "state": {
            "_dom_classes": [],
            "_model_module": "@jupyter-widgets/controls",
            "_model_module_version": "1.5.0",
            "_model_name": "HTMLModel",
            "_view_count": null,
            "_view_module": "@jupyter-widgets/controls",
            "_view_module_version": "1.5.0",
            "_view_name": "HTMLView",
            "description": "",
            "description_tooltip": null,
            "layout": "IPY_MODEL_66965fdabb024e24bc9706da3de02ff6",
            "placeholder": "​",
            "style": "IPY_MODEL_3ad6a8771e9a471c80b8ad04bed6bb07",
            "value": " 468/468 [00:00&lt;00:00, 12.2kB/s]"
          }
        },
        "c88aa0ef98bf4a76858ba669b67923e8": {
          "model_module": "@jupyter-widgets/controls",
          "model_module_version": "1.5.0",
          "model_name": "DescriptionStyleModel",
          "state": {
            "_model_module": "@jupyter-widgets/controls",
            "_model_module_version": "1.5.0",
            "_model_name": "DescriptionStyleModel",
            "_view_count": null,
            "_view_module": "@jupyter-widgets/base",
            "_view_module_version": "1.2.0",
            "_view_name": "StyleView",
            "description_width": ""
          }
        },
        "ca37a07ea96b4a1d807b31607d287fd0": {
          "model_module": "@jupyter-widgets/controls",
          "model_module_version": "1.5.0",
          "model_name": "HTMLModel",
          "state": {
            "_dom_classes": [],
            "_model_module": "@jupyter-widgets/controls",
            "_model_module_version": "1.5.0",
            "_model_name": "HTMLModel",
            "_view_count": null,
            "_view_module": "@jupyter-widgets/controls",
            "_view_module_version": "1.5.0",
            "_view_name": "HTMLView",
            "description": "",
            "description_tooltip": null,
            "layout": "IPY_MODEL_8deb0ee243724ffe8d921be537eab8be",
            "placeholder": "​",
            "style": "IPY_MODEL_c88aa0ef98bf4a76858ba669b67923e8",
            "value": "special_tokens_map.json: 100%"
          }
        },
        "d023f21aa84e4c8ca0b306efce1c762d": {
          "model_module": "@jupyter-widgets/controls",
          "model_module_version": "1.5.0",
          "model_name": "FloatProgressModel",
          "state": {
            "_dom_classes": [],
            "_model_module": "@jupyter-widgets/controls",
            "_model_module_version": "1.5.0",
            "_model_name": "FloatProgressModel",
            "_view_count": null,
            "_view_module": "@jupyter-widgets/controls",
            "_view_module_version": "1.5.0",
            "_view_name": "ProgressView",
            "bar_style": "success",
            "description": "",
            "description_tooltip": null,
            "layout": "IPY_MODEL_f2e345e37f5646adb3000fddb474a450",
            "max": 112,
            "min": 0,
            "orientation": "horizontal",
            "style": "IPY_MODEL_4ce251ccfb2a4f19a5c2f9f8d1da9420",
            "value": 112
          }
        },
        "d0fe96cd01764a10b2641076ff708a18": {
          "model_module": "@jupyter-widgets/base",
          "model_module_version": "1.2.0",
          "model_name": "LayoutModel",
          "state": {
            "_model_module": "@jupyter-widgets/base",
            "_model_module_version": "1.2.0",
            "_model_name": "LayoutModel",
            "_view_count": null,
            "_view_module": "@jupyter-widgets/base",
            "_view_module_version": "1.2.0",
            "_view_name": "LayoutView",
            "align_content": null,
            "align_items": null,
            "align_self": null,
            "border": null,
            "bottom": null,
            "display": null,
            "flex": null,
            "flex_flow": null,
            "grid_area": null,
            "grid_auto_columns": null,
            "grid_auto_flow": null,
            "grid_auto_rows": null,
            "grid_column": null,
            "grid_gap": null,
            "grid_row": null,
            "grid_template_areas": null,
            "grid_template_columns": null,
            "grid_template_rows": null,
            "height": null,
            "justify_content": null,
            "justify_items": null,
            "left": null,
            "margin": null,
            "max_height": null,
            "max_width": null,
            "min_height": null,
            "min_width": null,
            "object_fit": null,
            "object_position": null,
            "order": null,
            "overflow": null,
            "overflow_x": null,
            "overflow_y": null,
            "padding": null,
            "right": null,
            "top": null,
            "visibility": null,
            "width": null
          }
        },
        "d5f04a430ecd443bbbcba184f41800f0": {
          "model_module": "@jupyter-widgets/controls",
          "model_module_version": "1.5.0",
          "model_name": "FloatProgressModel",
          "state": {
            "_dom_classes": [],
            "_model_module": "@jupyter-widgets/controls",
            "_model_module_version": "1.5.0",
            "_model_name": "FloatProgressModel",
            "_view_count": null,
            "_view_module": "@jupyter-widgets/controls",
            "_view_module_version": "1.5.0",
            "_view_name": "ProgressView",
            "bar_style": "success",
            "description": "",
            "description_tooltip": null,
            "layout": "IPY_MODEL_83b64695922648c6831bf26fcf240932",
            "max": 62,
            "min": 0,
            "orientation": "horizontal",
            "style": "IPY_MODEL_000ece91d54a489abe7088f1436bedc9",
            "value": 62
          }
        },
        "d662f5099c2c478a828720b724c343a3": {
          "model_module": "@jupyter-widgets/base",
          "model_module_version": "1.2.0",
          "model_name": "LayoutModel",
          "state": {
            "_model_module": "@jupyter-widgets/base",
            "_model_module_version": "1.2.0",
            "_model_name": "LayoutModel",
            "_view_count": null,
            "_view_module": "@jupyter-widgets/base",
            "_view_module_version": "1.2.0",
            "_view_name": "LayoutView",
            "align_content": null,
            "align_items": null,
            "align_self": null,
            "border": null,
            "bottom": null,
            "display": null,
            "flex": null,
            "flex_flow": null,
            "grid_area": null,
            "grid_auto_columns": null,
            "grid_auto_flow": null,
            "grid_auto_rows": null,
            "grid_column": null,
            "grid_gap": null,
            "grid_row": null,
            "grid_template_areas": null,
            "grid_template_columns": null,
            "grid_template_rows": null,
            "height": null,
            "justify_content": null,
            "justify_items": null,
            "left": null,
            "margin": null,
            "max_height": null,
            "max_width": null,
            "min_height": null,
            "min_width": null,
            "object_fit": null,
            "object_position": null,
            "order": null,
            "overflow": null,
            "overflow_x": null,
            "overflow_y": null,
            "padding": null,
            "right": null,
            "top": null,
            "visibility": null,
            "width": null
          }
        },
        "dcb62b6bb89146c9a78efa01a576b034": {
          "model_module": "@jupyter-widgets/base",
          "model_module_version": "1.2.0",
          "model_name": "LayoutModel",
          "state": {
            "_model_module": "@jupyter-widgets/base",
            "_model_module_version": "1.2.0",
            "_model_name": "LayoutModel",
            "_view_count": null,
            "_view_module": "@jupyter-widgets/base",
            "_view_module_version": "1.2.0",
            "_view_name": "LayoutView",
            "align_content": null,
            "align_items": null,
            "align_self": null,
            "border": null,
            "bottom": null,
            "display": null,
            "flex": null,
            "flex_flow": null,
            "grid_area": null,
            "grid_auto_columns": null,
            "grid_auto_flow": null,
            "grid_auto_rows": null,
            "grid_column": null,
            "grid_gap": null,
            "grid_row": null,
            "grid_template_areas": null,
            "grid_template_columns": null,
            "grid_template_rows": null,
            "height": null,
            "justify_content": null,
            "justify_items": null,
            "left": null,
            "margin": null,
            "max_height": null,
            "max_width": null,
            "min_height": null,
            "min_width": null,
            "object_fit": null,
            "object_position": null,
            "order": null,
            "overflow": null,
            "overflow_x": null,
            "overflow_y": null,
            "padding": null,
            "right": null,
            "top": null,
            "visibility": null,
            "width": null
          }
        },
        "dd630b85563d4516ba5eba98510e020b": {
          "model_module": "@jupyter-widgets/controls",
          "model_module_version": "1.5.0",
          "model_name": "HTMLModel",
          "state": {
            "_dom_classes": [],
            "_model_module": "@jupyter-widgets/controls",
            "_model_module_version": "1.5.0",
            "_model_name": "HTMLModel",
            "_view_count": null,
            "_view_module": "@jupyter-widgets/controls",
            "_view_module_version": "1.5.0",
            "_view_name": "HTMLView",
            "description": "",
            "description_tooltip": null,
            "layout": "IPY_MODEL_925e64ea18e849889ea1e75845c709e6",
            "placeholder": "​",
            "style": "IPY_MODEL_2c9d7715012b4b8cb43db167831644dc",
            "value": "vocab.txt: 100%"
          }
        },
        "e22afc1274f945cbaff82e439a570be3": {
          "model_module": "@jupyter-widgets/base",
          "model_module_version": "1.2.0",
          "model_name": "LayoutModel",
          "state": {
            "_model_module": "@jupyter-widgets/base",
            "_model_module_version": "1.2.0",
            "_model_name": "LayoutModel",
            "_view_count": null,
            "_view_module": "@jupyter-widgets/base",
            "_view_module_version": "1.2.0",
            "_view_name": "LayoutView",
            "align_content": null,
            "align_items": null,
            "align_self": null,
            "border": null,
            "bottom": null,
            "display": null,
            "flex": null,
            "flex_flow": null,
            "grid_area": null,
            "grid_auto_columns": null,
            "grid_auto_flow": null,
            "grid_auto_rows": null,
            "grid_column": null,
            "grid_gap": null,
            "grid_row": null,
            "grid_template_areas": null,
            "grid_template_columns": null,
            "grid_template_rows": null,
            "height": null,
            "justify_content": null,
            "justify_items": null,
            "left": null,
            "margin": null,
            "max_height": null,
            "max_width": null,
            "min_height": null,
            "min_width": null,
            "object_fit": null,
            "object_position": null,
            "order": null,
            "overflow": null,
            "overflow_x": null,
            "overflow_y": null,
            "padding": null,
            "right": null,
            "top": null,
            "visibility": null,
            "width": null
          }
        },
        "ea40c1cef83e465e8e9ec27ea7d9f6ac": {
          "model_module": "@jupyter-widgets/base",
          "model_module_version": "1.2.0",
          "model_name": "LayoutModel",
          "state": {
            "_model_module": "@jupyter-widgets/base",
            "_model_module_version": "1.2.0",
            "_model_name": "LayoutModel",
            "_view_count": null,
            "_view_module": "@jupyter-widgets/base",
            "_view_module_version": "1.2.0",
            "_view_name": "LayoutView",
            "align_content": null,
            "align_items": null,
            "align_self": null,
            "border": null,
            "bottom": null,
            "display": null,
            "flex": null,
            "flex_flow": null,
            "grid_area": null,
            "grid_auto_columns": null,
            "grid_auto_flow": null,
            "grid_auto_rows": null,
            "grid_column": null,
            "grid_gap": null,
            "grid_row": null,
            "grid_template_areas": null,
            "grid_template_columns": null,
            "grid_template_rows": null,
            "height": null,
            "justify_content": null,
            "justify_items": null,
            "left": null,
            "margin": null,
            "max_height": null,
            "max_width": null,
            "min_height": null,
            "min_width": null,
            "object_fit": null,
            "object_position": null,
            "order": null,
            "overflow": null,
            "overflow_x": null,
            "overflow_y": null,
            "padding": null,
            "right": null,
            "top": null,
            "visibility": null,
            "width": null
          }
        },
        "f2e345e37f5646adb3000fddb474a450": {
          "model_module": "@jupyter-widgets/base",
          "model_module_version": "1.2.0",
          "model_name": "LayoutModel",
          "state": {
            "_model_module": "@jupyter-widgets/base",
            "_model_module_version": "1.2.0",
            "_model_name": "LayoutModel",
            "_view_count": null,
            "_view_module": "@jupyter-widgets/base",
            "_view_module_version": "1.2.0",
            "_view_name": "LayoutView",
            "align_content": null,
            "align_items": null,
            "align_self": null,
            "border": null,
            "bottom": null,
            "display": null,
            "flex": null,
            "flex_flow": null,
            "grid_area": null,
            "grid_auto_columns": null,
            "grid_auto_flow": null,
            "grid_auto_rows": null,
            "grid_column": null,
            "grid_gap": null,
            "grid_row": null,
            "grid_template_areas": null,
            "grid_template_columns": null,
            "grid_template_rows": null,
            "height": null,
            "justify_content": null,
            "justify_items": null,
            "left": null,
            "margin": null,
            "max_height": null,
            "max_width": null,
            "min_height": null,
            "min_width": null,
            "object_fit": null,
            "object_position": null,
            "order": null,
            "overflow": null,
            "overflow_x": null,
            "overflow_y": null,
            "padding": null,
            "right": null,
            "top": null,
            "visibility": null,
            "width": null
          }
        },
        "f83e7efa9c424840962115a432164285": {
          "model_module": "@jupyter-widgets/controls",
          "model_module_version": "1.5.0",
          "model_name": "FloatProgressModel",
          "state": {
            "_dom_classes": [],
            "_model_module": "@jupyter-widgets/controls",
            "_model_module_version": "1.5.0",
            "_model_name": "FloatProgressModel",
            "_view_count": null,
            "_view_module": "@jupyter-widgets/controls",
            "_view_module_version": "1.5.0",
            "_view_name": "ProgressView",
            "bar_style": "success",
            "description": "",
            "description_tooltip": null,
            "layout": "IPY_MODEL_dcb62b6bb89146c9a78efa01a576b034",
            "max": 545136632,
            "min": 0,
            "orientation": "horizontal",
            "style": "IPY_MODEL_b77452568c6d444dbe06717129eea209",
            "value": 545136632
          }
        },
        "fd1d672ab7e24dcd9066a4b9820d47be": {
          "model_module": "@jupyter-widgets/controls",
          "model_module_version": "1.5.0",
          "model_name": "FloatProgressModel",
          "state": {
            "_dom_classes": [],
            "_model_module": "@jupyter-widgets/controls",
            "_model_module_version": "1.5.0",
            "_model_name": "FloatProgressModel",
            "_view_count": null,
            "_view_module": "@jupyter-widgets/controls",
            "_view_module_version": "1.5.0",
            "_view_name": "ProgressView",
            "bar_style": "success",
            "description": "",
            "description_tooltip": null,
            "layout": "IPY_MODEL_bbac66fb2e094a26a80ad918f5b533b1",
            "max": 229513,
            "min": 0,
            "orientation": "horizontal",
            "style": "IPY_MODEL_98bfd741acdc4d9b9ee34be93004f240",
            "value": 229513
          }
        },
        "fe31a390efb946179be73ce871ba5d7f": {
          "model_module": "@jupyter-widgets/base",
          "model_module_version": "1.2.0",
          "model_name": "LayoutModel",
          "state": {
            "_model_module": "@jupyter-widgets/base",
            "_model_module_version": "1.2.0",
            "_model_name": "LayoutModel",
            "_view_count": null,
            "_view_module": "@jupyter-widgets/base",
            "_view_module_version": "1.2.0",
            "_view_name": "LayoutView",
            "align_content": null,
            "align_items": null,
            "align_self": null,
            "border": null,
            "bottom": null,
            "display": null,
            "flex": null,
            "flex_flow": null,
            "grid_area": null,
            "grid_auto_columns": null,
            "grid_auto_flow": null,
            "grid_auto_rows": null,
            "grid_column": null,
            "grid_gap": null,
            "grid_row": null,
            "grid_template_areas": null,
            "grid_template_columns": null,
            "grid_template_rows": null,
            "height": null,
            "justify_content": null,
            "justify_items": null,
            "left": null,
            "margin": null,
            "max_height": null,
            "max_width": null,
            "min_height": null,
            "min_width": null,
            "object_fit": null,
            "object_position": null,
            "order": null,
            "overflow": null,
            "overflow_x": null,
            "overflow_y": null,
            "padding": null,
            "right": null,
            "top": null,
            "visibility": null,
            "width": null
          }
        }
      }
    }
  },
  "nbformat": 4,
  "nbformat_minor": 0
}
