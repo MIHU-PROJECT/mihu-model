{
 "cells": [
  {
   "cell_type": "code",
   "execution_count": 1,
   "metadata": {},
   "outputs": [
    {
     "name": "stdout",
     "output_type": "stream",
     "text": [
      "WARNING:tensorflow:From c:\\Users\\thori\\AppData\\Local\\Programs\\Python\\Python310\\lib\\site-packages\\keras\\src\\losses.py:2976: The name tf.losses.sparse_softmax_cross_entropy is deprecated. Please use tf.compat.v1.losses.sparse_softmax_cross_entropy instead.\n",
      "\n"
     ]
    }
   ],
   "source": [
    "import numpy as np\n",
    "import tensorflow as tf\n",
    "from keras.preprocessing.text import Tokenizer\n",
    "from keras.preprocessing.sequence import pad_sequences\n",
    "import csv\n",
    "import matplotlib.pyplot as plt\n",
    "import nltk\n",
    "from nltk.corpus import stopwords"
   ]
  },
  {
   "cell_type": "markdown",
   "metadata": {},
   "source": [
    "# Download indonesian stopwords"
   ]
  },
  {
   "cell_type": "code",
   "execution_count": 2,
   "metadata": {},
   "outputs": [
    {
     "name": "stdout",
     "output_type": "stream",
     "text": [
      "['ada', 'adalah', 'adanya', 'adapun', 'agak', 'agaknya', 'agar', 'akan', 'akankah', 'akhir', 'akhiri', 'akhirnya', 'aku', 'akulah', 'amat', 'amatlah', 'anda', 'andalah', 'antar', 'antara']\n"
     ]
    },
    {
     "name": "stderr",
     "output_type": "stream",
     "text": [
      "[nltk_data] Downloading package stopwords to\n",
      "[nltk_data]     C:\\Users\\thori\\AppData\\Roaming\\nltk_data...\n",
      "[nltk_data]   Package stopwords is already up-to-date!\n"
     ]
    }
   ],
   "source": [
    "nltk.download('stopwords')\n",
    "stopwords_indonesia = stopwords.words('indonesian')\n",
    "\n",
    "# Tampilkan beberapa contoh stopwords bahasa Indonesia\n",
    "print(stopwords_indonesia[:20])"
   ]
  },
  {
   "cell_type": "markdown",
   "metadata": {},
   "source": [
    "# Removing Stop words"
   ]
  },
  {
   "cell_type": "code",
   "execution_count": 3,
   "metadata": {},
   "outputs": [],
   "source": [
    "def remove_stopwords(sentence):\n",
    "    \n",
    "    # Sentence converted to lowercase-only\n",
    "    sentence = sentence.lower()\n",
    "\n",
    "    words = sentence.split()\n",
    "    no_words = [w for w in words if w not in stopwords_indonesia]\n",
    "    sentence = \" \".join(no_words)\n",
    "\n",
    "    return sentence"
   ]
  },
  {
   "cell_type": "markdown",
   "metadata": {},
   "source": [
    "# Function Load Dataset"
   ]
  },
  {
   "cell_type": "code",
   "execution_count": 4,
   "metadata": {},
   "outputs": [],
   "source": [
    "def load_dataset(filename, stopwords_remove):\n",
    "    sentences = []\n",
    "    labels = []\n",
    "\n",
    "    with open(filename, \"r\") as file:\n",
    "        reader = csv.reader(file, delimiter=\",\")\n",
    "        next(reader)\n",
    "        for row in reader:\n",
    "            sentences.append(remove_stopwords(row[0]) if stopwords_remove == True else row[0])\n",
    "            labels.append(int(row[1]))\n",
    "\n",
    "    return sentences, labels"
   ]
  },
  {
   "cell_type": "markdown",
   "metadata": {},
   "source": [
    "# Load Dataset From CSV"
   ]
  },
  {
   "cell_type": "code",
   "execution_count": 5,
   "metadata": {},
   "outputs": [],
   "source": [
    "csvDataset = \"./DatasetCSV/Dataset_fix.csv\"\n",
    "csvValidation = \"./DatasetCSV/Validation_Dataset.csv\"\n",
    "\n",
    "train_sentences , train_labels = load_dataset(csvDataset, True)\n",
    "validation_sentences, validation_labels = load_dataset(csvValidation, False)\n"
   ]
  },
  {
   "cell_type": "code",
   "execution_count": 6,
   "metadata": {},
   "outputs": [
    {
     "data": {
      "text/plain": [
       "80905"
      ]
     },
     "execution_count": 6,
     "metadata": {},
     "output_type": "execute_result"
    }
   ],
   "source": [
    "# print(len(train_sentences))\n",
    "#sample\n",
    "# for i in range(10):\n",
    "#     print(train_sentences[i])\n",
    "\n",
    "sum([len(word) for word in train_sentences])\n"
   ]
  },
  {
   "cell_type": "markdown",
   "metadata": {},
   "source": [
    "Setting Utiliti Untuk Knobs"
   ]
  },
  {
   "cell_type": "code",
   "execution_count": 6,
   "metadata": {},
   "outputs": [],
   "source": [
    "vocab_size = 1000\n",
    "oov = \"<OOV>\"\n",
    "padding = \"post\"\n",
    "truncate = \"post\"\n",
    "embedding_dim = 8\n",
    "max_length = 25"
   ]
  },
  {
   "cell_type": "markdown",
   "metadata": {},
   "source": [
    "# Set Up Tokenizer"
   ]
  },
  {
   "cell_type": "code",
   "execution_count": 7,
   "metadata": {},
   "outputs": [
    {
     "data": {
      "text/plain": [
       "[['individual', 1060],\n",
       " ['penyetrikahan', 1061],\n",
       " ['canggih', 1062],\n",
       " ['avant', 1063],\n",
       " ['garde', 1064],\n",
       " ['futuristik', 1065],\n",
       " ['casual', 1066],\n",
       " ['vintage', 1067],\n",
       " ['antik', 1068],\n",
       " ['penghalusan', 1069],\n",
       " ['kerutan', 1070],\n",
       " ['kainnya', 1071],\n",
       " ['bakteri', 1072],\n",
       " ['kelembutan', 1073],\n",
       " ['perlindungan', 1074],\n",
       " ['uv', 1075],\n",
       " ['biasa', 1076],\n",
       " ['prosesnya', 1077],\n",
       " ['dihargai', 1078],\n",
       " ['menolong', 1079]]"
      ]
     },
     "execution_count": 7,
     "metadata": {},
     "output_type": "execute_result"
    }
   ],
   "source": [
    "#set Tokenizer\n",
    "tokenizer = Tokenizer(num_words=vocab_size, oov_token=oov)\n",
    "#Fit on texts get the word index\n",
    "tokenizer.fit_on_texts(train_sentences)\n",
    "[[x, y] for x, y in tokenizer.word_index.items()][-20:]\n",
    "# print(tokenizer.word_index)"
   ]
  },
  {
   "cell_type": "markdown",
   "metadata": {},
   "source": [
    "# Sequences The dataset"
   ]
  },
  {
   "cell_type": "code",
   "execution_count": 9,
   "metadata": {},
   "outputs": [],
   "source": [
    "train_sequences = tokenizer.texts_to_sequences(train_sentences)\n",
    "train_padded = pad_sequences(train_sequences, padding=padding, maxlen=max_length, truncating=truncate)\n",
    "\n",
    "validation_sequences = tokenizer.texts_to_sequences(validation_sentences)\n",
    "validation_padded = pad_sequences(validation_sequences, padding=padding, maxlen=max_length, truncating=truncate)\n",
    "\n",
    "train_labels=np.array(train_labels)\n",
    "validation_labels=np.array(validation_labels)\n",
    "train_labels = np.expand_dims(train_labels, axis=1)\n",
    "validation_labels = np.expand_dims(validation_labels, axis=1)"
   ]
  },
  {
   "cell_type": "code",
   "execution_count": 10,
   "metadata": {},
   "outputs": [
    {
     "name": "stdout",
     "output_type": "stream",
     "text": [
      "(1636, 25)\n",
      "(258, 25)\n",
      "(1636, 1)\n",
      "(258, 1)\n",
      "[[0]\n",
      " [0]\n",
      " [0]\n",
      " ...\n",
      " [4]\n",
      " [4]\n",
      " [4]]\n"
     ]
    }
   ],
   "source": [
    "print(train_padded.shape)\n",
    "print(validation_padded.shape)\n",
    "print(train_labels.shape)\n",
    "print(validation_labels.shape)\n",
    "print(train_labels)"
   ]
  },
  {
   "cell_type": "markdown",
   "metadata": {},
   "source": [
    "# Stop The callbacks When Val_Accuracy Reach 85%"
   ]
  },
  {
   "cell_type": "code",
   "execution_count": 11,
   "metadata": {},
   "outputs": [],
   "source": [
    "class myCallback(tf.keras.callbacks.Callback):\n",
    "  def on_epoch_end(self, epoch, logs={}):\n",
    "    if(logs.get('val_accuracy') >= 0.85): # Experiment with changing this value\n",
    "      print(\"\\nReached 60% accuracy so cancelling training!\")\n",
    "      self.model.stop_training = True\n",
    "\n",
    "callbacks = myCallback()"
   ]
  },
  {
   "cell_type": "markdown",
   "metadata": {},
   "source": [
    "# Creating The model and Tuning The model"
   ]
  },
  {
   "cell_type": "code",
   "execution_count": 18,
   "metadata": {},
   "outputs": [
    {
     "name": "stdout",
     "output_type": "stream",
     "text": [
      "Model: \"sequential_12\"\n",
      "_________________________________________________________________\n",
      " Layer (type)                Output Shape              Param #   \n",
      "=================================================================\n",
      " embedding_8 (Embedding)     (None, 25, 8)             8000      \n",
      "                                                                 \n",
      " bidirectional_4 (Bidirecti  (None, 8)                 416       \n",
      " onal)                                                           \n",
      "                                                                 \n",
      " dropout_8 (Dropout)         (None, 8)                 0         \n",
      "                                                                 \n",
      " dense_12 (Dense)            (None, 8)                 72        \n",
      "                                                                 \n",
      " dense_13 (Dense)            (None, 5)                 45        \n",
      "                                                                 \n",
      "=================================================================\n",
      "Total params: 8533 (33.33 KB)\n",
      "Trainable params: 8533 (33.33 KB)\n",
      "Non-trainable params: 0 (0.00 Byte)\n",
      "_________________________________________________________________\n"
     ]
    }
   ],
   "source": [
    "# model = tf.keras.Sequential([\n",
    "#         # tf.keras.layers.Embedding(vocab_size, embedding_dim, input_length=max_length),\n",
    "#         # tf.keras.layers.Bidirectional(tf.keras.layers.LSTM(64,return_sequences=True)),\n",
    "#         # tf.keras.layers.Bidirectional(tf.keras.layers.LSTM(32)),\n",
    "#         # tf.keras.layers.Flatten(),\n",
    "#         # tf.keras.layers.Dense(128, activation='relu'),\n",
    "#         # # tf.keras.layers.Dropout(0.2),\n",
    "#         # tf.keras.layers.Dense(64, activation='relu'),\n",
    "#         # #tf.keras.layers.Dropout(0.3),\n",
    "#         # tf.keras.layers.Dense(5, activation='softmax')\n",
    "#     ])\n",
    "\n",
    "# model = tf.keras.Sequential([\n",
    "#         tf.keras.layers.Embedding(vocab_size, embedding_dim),\n",
    "#         tf.keras.layers.Dropout(0.2),\n",
    "#         tf.keras.layers.GlobalAveragePooling1D(),\n",
    "#         tf.keras.layers.Dropout(0.2),\n",
    "#         tf.keras.layers.Dense(5, activation='softmax')\n",
    "# ])\n",
    "\n",
    "# model = tf.keras.Sequential([\n",
    "#     tf.keras.layers.Embedding(vocab_size, embedding_dim, input_length=max_length),\n",
    "#     tf.keras.layers.Bidirectional(tf.keras.layers.LSTM(32)),\n",
    "#     tf.keras.layers.Dense(24, activation=\"relu\"),\n",
    "#     tf.keras.layers.Dense(5, activation=\"softmax\")\n",
    "# ])\n",
    "\n",
    "model = tf.keras.Sequential([\n",
    "    tf.keras.layers.Embedding(vocab_size, embedding_dim, input_length=max_length),\n",
    "    tf.keras.layers.Bidirectional(tf.keras.layers.LSTM(4)),\n",
    "    tf.keras.layers.Dropout(0.5),\n",
    "    tf.keras.layers.Dense(8, activation=\"relu\"),\n",
    "    tf.keras.layers.Dense(5, activation=\"softmax\")\n",
    "])\n",
    "model.compile(loss=tf.keras.losses.SparseCategoricalCrossentropy(), optimizer='adam',metrics=['accuracy'])\n",
    "model.summary()"
   ]
  },
  {
   "cell_type": "code",
   "execution_count": 19,
   "metadata": {},
   "outputs": [
    {
     "name": "stdout",
     "output_type": "stream",
     "text": [
      "Epoch 1/40\n",
      "52/52 [==============================] - 3s 16ms/step - loss: 1.6004 - accuracy: 0.2445 - val_loss: 1.5994 - val_accuracy: 0.3140\n",
      "Epoch 2/40\n",
      "52/52 [==============================] - 0s 6ms/step - loss: 1.5536 - accuracy: 0.3698 - val_loss: 1.5563 - val_accuracy: 0.3953\n",
      "Epoch 3/40\n",
      "52/52 [==============================] - 0s 6ms/step - loss: 1.4354 - accuracy: 0.3612 - val_loss: 1.4486 - val_accuracy: 0.4806\n",
      "Epoch 4/40\n",
      "52/52 [==============================] - 0s 7ms/step - loss: 1.2691 - accuracy: 0.3967 - val_loss: 1.2773 - val_accuracy: 0.4884\n",
      "Epoch 5/40\n",
      "52/52 [==============================] - 0s 6ms/step - loss: 1.1228 - accuracy: 0.4688 - val_loss: 1.1538 - val_accuracy: 0.4961\n",
      "Epoch 6/40\n",
      "52/52 [==============================] - 0s 6ms/step - loss: 1.0323 - accuracy: 0.5513 - val_loss: 1.0797 - val_accuracy: 0.5349\n",
      "Epoch 7/40\n",
      "52/52 [==============================] - 0s 6ms/step - loss: 0.9473 - accuracy: 0.5844 - val_loss: 1.0538 - val_accuracy: 0.5426\n",
      "Epoch 8/40\n",
      "52/52 [==============================] - 0s 6ms/step - loss: 0.8981 - accuracy: 0.6180 - val_loss: 0.9871 - val_accuracy: 0.5891\n",
      "Epoch 9/40\n",
      "52/52 [==============================] - 0s 6ms/step - loss: 0.8512 - accuracy: 0.6369 - val_loss: 0.9799 - val_accuracy: 0.5698\n",
      "Epoch 10/40\n",
      "52/52 [==============================] - 0s 6ms/step - loss: 0.8036 - accuracy: 0.6601 - val_loss: 0.9189 - val_accuracy: 0.6085\n",
      "Epoch 11/40\n",
      "52/52 [==============================] - 0s 6ms/step - loss: 0.7355 - accuracy: 0.7121 - val_loss: 0.8482 - val_accuracy: 0.6977\n",
      "Epoch 12/40\n",
      "52/52 [==============================] - 0s 6ms/step - loss: 0.6897 - accuracy: 0.7427 - val_loss: 0.8206 - val_accuracy: 0.6667\n",
      "Epoch 13/40\n",
      "52/52 [==============================] - 0s 6ms/step - loss: 0.6464 - accuracy: 0.7592 - val_loss: 0.7772 - val_accuracy: 0.7248\n",
      "Epoch 14/40\n",
      "52/52 [==============================] - 0s 7ms/step - loss: 0.6174 - accuracy: 0.7665 - val_loss: 0.7205 - val_accuracy: 0.7326\n",
      "Epoch 15/40\n",
      "52/52 [==============================] - 0s 6ms/step - loss: 0.5527 - accuracy: 0.8148 - val_loss: 0.7050 - val_accuracy: 0.6938\n",
      "Epoch 16/40\n",
      "52/52 [==============================] - 0s 6ms/step - loss: 0.5181 - accuracy: 0.8117 - val_loss: 0.6033 - val_accuracy: 0.8450\n",
      "Epoch 17/40\n",
      "48/52 [==========================>...] - ETA: 0s - loss: 0.4643 - accuracy: 0.8340\n",
      "Reached 60% accuracy so cancelling training!\n",
      "52/52 [==============================] - 0s 6ms/step - loss: 0.4585 - accuracy: 0.8356 - val_loss: 0.5082 - val_accuracy: 0.8953\n"
     ]
    }
   ],
   "source": [
    "history = model.fit(train_padded, train_labels,epochs=40, validation_data=(validation_padded, validation_labels), callbacks=[callbacks])"
   ]
  },
  {
   "cell_type": "markdown",
   "metadata": {},
   "source": [
    "# Plot The Accuracy and validation"
   ]
  },
  {
   "cell_type": "code",
   "execution_count": 20,
   "metadata": {},
   "outputs": [
    {
     "data": {
      "image/png": "[encoded data removed]",
      "text/plain": [
       "<Figure size 640x480 with 1 Axes>"
      ]
     },
     "metadata": {},
     "output_type": "display_data"
    },
    {
     "data": {
      "image/png": "[encoded data removed]",
      "text/plain": [
       "<Figure size 640x480 with 1 Axes>"
      ]
     },
     "metadata": {},
     "output_type": "display_data"
    }
   ],
   "source": [
    "def plot_graphs(history, metric):\n",
    "    plt.plot(history.history[metric])\n",
    "    plt.plot(history.history[f'val_{metric}'])\n",
    "    plt.xlabel(\"Epochs\")\n",
    "    plt.ylabel(metric)\n",
    "    plt.legend([metric, f'val_{metric}'])\n",
    "    plt.show()\n",
    "    \n",
    "plot_graphs(history, \"accuracy\")\n",
    "plot_graphs(history, \"loss\")"
   ]
  },
  {
   "cell_type": "markdown",
   "metadata": {},
   "source": [
    "# Save Model"
   ]
  },
  {
   "cell_type": "code",
   "execution_count": 21,
   "metadata": {},
   "outputs": [
    {
     "name": "stderr",
     "output_type": "stream",
     "text": [
      "c:\\Users\\thori\\AppData\\Local\\Programs\\Python\\Python310\\lib\\site-packages\\keras\\src\\engine\\training.py:3103: UserWarning: You are saving your model as an HDF5 file via `model.save()`. This file format is considered legacy. We recommend using instead the native Keras format, e.g. `model.save('my_model.keras')`.\n",
      "  saving_api.save_model(\n"
     ]
    }
   ],
   "source": [
    "model.save(\"Model_Mihu_85acc.h5\")"
   ]
  },
  {
   "cell_type": "markdown",
   "metadata": {},
   "source": [
    "# Save Index Word"
   ]
  },
  {
   "cell_type": "code",
   "execution_count": 8,
   "metadata": {},
   "outputs": [
    {
     "name": "stdout",
     "output_type": "stream",
     "text": [
      "{1: '<OOV>', 2: 'pakaian', 3: 'bantuan', 4: 'layanan', 5: 'pembersihan', 6: 'menyetrika', 7: 'pindah', 8: 'bersihkan', 9: 'membantu', 10: 'saya', 11: 'periksa', 12: 'mencari', 13: 'tinggal', 14: 'jasa', 15: 'berbeda', 16: 'membutuhkan', 17: 'baru', 18: 'khusus', 19: 'ganti', 20: 'penyetrikaan', 21: 'membersihkan', 22: 'proses', 23: 'menawarkan', 24: 'dukungan', 25: 'alamat', 26: 'mencuci', 27: 'menyewa', 28: 'memiliki', 29: 'sesuaikan', 30: 'sesuai', 31: 'relokasi', 32: 'lokasi', 33: 'cuci', 34: 'debu', 35: 'perubahan', 36: 'air', 37: 'rumah', 38: 'lampu', 39: 'setrika', 40: 'suhu', 41: 'dapatkah', 42: 'kamar', 43: 'anda', 44: 'teratur', 45: 'perawatan', 46: 'baju', 47: 'lemari', 48: 'itu', 49: 'hidup', 50: 'mesin', 51: 'butuh', 52: 'kepindahan', 53: 'menyediakan', 54: 'transisi', 55: 'atur', 56: 'barang', 57: 'jendela', 58: 'menangani', 59: 'bahan', 60: 'menerima', 61: 'sampah', 62: 'oven', 63: 'kain', 64: 'pintu', 65: 'noda', 66: 'filter', 67: 'laundry', 68: 'lap', 69: 'lain', 70: 'bimbingan', 71: 'area', 72: 'perlu', 73: 'mandi', 74: 'digunakan', 75: 'permukaan', 76: 'peralatan', 77: 'karpet', 78: 'meja', 79: 'menghilangkan', 80: 'es', 81: 'mengubah', 82: 'lantai', 83: 'pembersih', 84: 'komputer', 85: 'sediakan', 86: 'kabel', 87: 'sambungan', 88: 'kopi', 89: 'pekerjaan', 90: 'merawat', 91: 'tv', 92: 'kipas', 93: 'ini', 94: 'pengalaman', 95: 'menjaga', 96: 'tidur', 97: 'udara', 98: 'benar', 99: 'panduan', 100: 'menghindari', 101: 'pengaturan', 102: 'microwave', 103: 'pemanas', 104: 'dapur', 105: 'pastikan', 106: 'baik', 107: 'bersih', 108: 'tambahan', 109: 'tolong', 110: 'permintaan', 111: 'rumit', 112: 'penanganan', 113: 'rapikan', 114: 'benda', 115: 'ponsel', 116: 'pemanggang', 117: 'berbahan', 118: 'kunci', 119: 'ruang', 120: 'makan', 121: 'angin', 122: 'laptop', 123: 'kondisi', 124: 'anak', 125: 'informasi', 126: 'laci', 127: 'ruangan', 128: 'petunjuk', 129: 'sistem', 130: 'tertentu', 131: 'sapu', 132: 'layar', 133: 'pijar', 134: 'bau', 135: 'sulit', 136: 'rapi', 137: 'penyedot', 138: 'roti', 139: 'blender', 140: 'dispenser', 141: 'deterjen', 142: 'kualitas', 143: 'perlakuan', 144: 'formal', 145: 'elektronik', 146: 'kotoran', 147: 'berkala', 148: 'kotor', 149: 'daya', 150: 'nasi', 151: 'pengering', 152: 'warna', 153: 'pemutar', 154: 'musik', 155: 'meningkatkan', 156: 'solusi', 157: 'kaca', 158: 'pengoperasian', 159: 'jenis', 160: 'lakukan', 161: 'rusak', 162: 'tangga', 163: 'hasil', 164: 'seprai', 165: 'makanan', 166: 'ac', 167: 'perhatian', 168: 'televisi', 169: 'penanak', 170: 'rambut', 171: 'listrik', 172: 'pengantaran', 173: 'perangkat', 174: 'penumpukan', 175: 'mencegah', 176: 'menumpuk', 177: 'optimal', 178: 'kebutuhan', 179: 'pembuat', 180: 'pencucian', 181: 'mengatasi', 182: 'olahraga', 183: 'terang', 184: 'tersebut', 185: 'memesan', 186: 'detail', 187: 'penyetrika', 188: 'kompor', 189: 'hari', 190: 'lainnya', 191: 'minggu', 192: 'instruksi', 193: 'berwarna', 194: 'penggunaan', 195: 'rak', 196: 'tingkat', 197: 'kinerja', 198: 'cucian', 199: 'cepat', 200: 'lingkungan', 201: 'teknik', 202: 'membantuku', 203: 'ahli', 204: 'terkait', 205: 'bohlam', 206: 'memasak', 207: 'matikan', 208: 'kursi', 209: 'buang', 210: 'lumasi', 211: 'seperlunya', 212: 'ulang', 213: 'efisiensi', 214: 'produk', 215: 'efisien', 216: 'kerja', 217: 'kulkas', 218: 'hati', 219: 'anti', 220: 'tekanan', 221: 'langkah', 222: 'tanda', 223: 'tersedia', 224: 'kali', 225: 'mohon', 226: 'bayi', 227: 'pengambilan', 228: 'ramah', 229: 'sutra', 230: 'bordir', 231: 'aplikasi', 232: 'kebijakan', 233: 'disetrika', 234: 'keahlian', 235: 'menantang', 236: 'menghargai', 237: 'berfungsi', 238: 'teras', 239: 'piring', 240: 'keset', 241: 'kecil', 242: 'sudut', 243: 'pengatur', 244: 'baki', 245: 'lapisan', 246: 'energi', 247: 'buku', 248: 'sikat', 249: 'lembut', 250: 'ketinggian', 251: 'isi', 252: 'pendingin', 253: 'termostat', 254: 'aus', 255: 'aliran', 256: 'menyelesaikan', 257: 'manik', 258: 'opsi', 259: 'diandalkan', 260: 'melipat', 261: 'linen', 262: 'lipatan', 263: 'profesional', 264: 'memperhatikan', 265: 'desain', 266: 'teknologi', 267: 'pel', 268: 'disinfeksi', 269: 'penuh', 270: 'luar', 271: 'sehari', 272: 'remote', 273: 'dicuci', 274: 'campuran', 275: 'keluarga', 276: 'sisa', 277: 'selimut', 278: 'koneksi', 279: 'kerak', 280: 'remah', 281: 'mengurus', 282: 'tawarkan', 283: 'metode', 284: 'harga', 285: 'rutin', 286: 'terjangkau', 287: 'jadwal', 288: 'hypoallergenic', 289: 'kerah', 290: 'padam', 291: 'sedot', 292: 'tinggi', 293: 'halaman', 294: 'kantong', 295: 'tempat', 296: 'saluran', 297: 'tertutup', 298: 'outdoor', 299: 'baterai', 300: 'mengatur', 301: 'kecepatan', 302: 'suara', 303: 'sirip', 304: 'perbarui', 305: 'elemen', 306: 'tumpukan', 307: 'lama', 308: 'dekorasi', 309: 'gelap', 310: 'singkat', 311: 'berkualitas', 312: 'tekstur', 313: 'memahami', 314: 'perbedaan', 315: 'seka', 316: 'lembab', 317: 'masak', 318: 'kosongkan', 319: 'bebas', 320: 'toilet', 321: 'kebersihan', 322: 'rekomendasi', 323: 'produsen', 324: 'bola', 325: 'daun', 326: 'ventilasi', 327: 'penyimpanan', 328: 'tutup', 329: 'musim', 330: 'arah', 331: 'rapat', 332: 'pahami', 333: 'jalankan', 334: 'dingin', 335: 'kerusakan', 336: 'motor', 337: 'instal', 338: 'sakelar', 339: 'bantuanmu', 340: 'bantu', 341: 'mengambil', 342: 'sekarang', 343: 'rentan', 344: 'minyak', 345: 'steam', 346: 'jangka', 347: 'bulu', 348: 'pesta', 349: 'sulaman', 350: 'mengembalikan', 351: 'silakan', 352: 'couture', 353: 'ekstra', 354: 'hiasan', 355: 'tikar', 356: 'wastafel', 357: 'sprei', 358: 'diinginkan', 359: 'acara', 360: 'disinfektan', 361: 'permadani', 362: 'dll', 363: 'selesai', 364: 'puing', 365: 'dijangkau', 366: 'segar', 367: 'alas', 368: 'melindungi', 369: 'organik', 370: 'tirai', 371: 'tepat', 372: 'penyumbatan', 373: 'bantal', 374: 'keyboard', 375: 'mengurangi', 376: 'hemat', 377: 'simpan', 378: 'wadah', 379: 'alami', 380: 'kering', 381: 'langit', 382: 'perlengkapan', 383: 'mati', 384: 'kisi', 385: 'kecoklatan', 386: 'diatur', 387: 'mode', 388: 'operasi', 389: 'pemindaian', 390: 'aman', 391: 'fungsi', 392: 'panas', 393: 'beban', 394: 'baling', 395: 'kestabilan', 396: 'pembaruan', 397: 'firmware', 398: 'cadangkan', 399: 'tapak', 400: 'freezer', 401: 'fitur', 402: 'katup', 403: 'kondensor', 404: 'lunak', 405: 'tugas', 406: 'bersedia', 407: 'kulit', 408: 'tinta', 409: 'pengembalian', 410: 'estimasi', 411: 'sensitif', 412: 'delikat', 413: 'renang', 414: 'kostum', 415: 'bersediakah', 416: 'dry', 417: 'menjamin', 418: 'terbuat', 419: 'tanggal', 420: 'pakaianku', 421: 'pola', 422: 'desainnya', 423: 'beragam', 424: 'material', 425: 'renda', 426: 'patch', 427: 'aksesori', 428: 'tali', 429: 'tahan', 430: 'kompleks', 431: 'ubin', 432: 'jaga', 433: 'kemoceng', 434: 'sedap', 435: 'telepon', 436: 'ikuti', 437: 'gelas', 438: 'pencahayaan', 439: 'label', 440: 'merusak', 441: 'alat', 442: 'bak', 443: 'disimpan', 444: 'mengosongkan', 445: 'tamu', 446: 'tisu', 447: 'penyedotan', 448: 'menyapu', 449: 'dibersihkan', 450: 'terisi', 451: 'drum', 452: 'antena', 453: 'konfigurasi', 454: 'nyalakan', 455: 'pisau', 456: 'maksimal', 457: 'virus', 458: 'mixer', 459: 'lancar', 460: 'jaringan', 461: 'rendah', 462: 'kebocoran', 463: 'alasnya', 464: 'putar', 465: 'keamanan', 466: 'selang', 467: 'malware', 468: 'gosong', 469: 'siram', 470: 'steker', 471: 'penerimaan', 472: 'kalibrasi', 473: 'sensor', 474: 'kebakaran', 475: 'keausan', 476: 'setel', 477: 'kecerahan', 478: 'memperbaiki', 479: 'mempertahankan', 480: 'meluangkan', 481: 'harap', 482: 'juga', 483: 'ayo', 484: 'dihilangkan', 485: 'payet', 486: 'cleaning', 487: 'ekspres', 488: 'pengeringan', 489: 'penghilangan', 490: 'presisi', 491: 'perabotan', 492: 'pernak', 493: 'pernik', 494: 'bisnis', 495: 'wol', 496: 'perusahaan', 497: 'halus', 498: 'toko', 499: 'kontrak', 500: 'tangan', 501: 'beda', 502: 'brokat', 503: 'kerut', 504: 'manset', 505: 'tampilan', 506: 'pewangi', 507: 'kusut', 508: 'teliti', 509: 'haute', 510: 'kombinasi', 511: 'terjaga', 512: 'fokus', 513: 'perlengkapannya', 514: 'pancuran', 515: 'mengangin', 516: 'anginkan', 517: 'mengganti', 518: 'jelas', 519: 'masuk', 520: 'komponen', 521: 'dalamnya', 522: 'control', 523: 'kelancaran', 524: 'led', 525: 'sumbangkan', 526: 'miliki', 527: 'kelembaban', 528: 'jamur', 529: 'membuka', 530: 'bingkai', 531: 'tumpahan', 532: 'pisahkan', 533: 'memaksimalkan', 534: 'serat', 535: 'mikro', 536: 'cabut', 537: 'konektor', 538: 'kokoh', 539: 'keselarasan', 540: 'aktivitas', 541: 'semak', 542: 'taman', 543: 'hindari', 544: 'keras', 545: 'menjangkau', 546: 'cuka', 547: 'cermin', 548: 'sepatu', 549: 'handuk', 550: 'spons', 551: 'sofa', 552: 'toaster', 553: 'hewan', 554: 'peliharaan', 555: 'sela', 556: 'mikrofiber', 557: 'gantilah', 558: 'susun', 559: 'vacuum', 560: 'mengepel', 561: 'poles', 562: 'residu', 563: 'engselnya', 564: 'penerangan', 565: 'bilah', 566: 'cairan', 567: 'mengoperasikannya', 568: 'mata', 569: 'tentukan', 570: 'rice', 571: 'cooker', 572: 'water', 573: 'heater', 574: 'hair', 575: 'dryer', 576: 'antivirus', 577: 'tombol', 578: 'notifikasi', 579: 'dibutuhkan', 580: 'saringan', 581: 'merata', 582: 'berlebih', 583: 'gambar', 584: 'segel', 585: 'kenyamanan', 586: 'tangki', 587: 'sempurna', 588: 'akses', 589: 'lagu', 590: 'mineral', 591: 'data', 592: 'beku', 593: 'uji', 594: 'suhunya', 595: 'mengakses', 596: 'balingnya', 597: 'terarah', 598: 'sabuk', 599: 'cairkan', 600: 'hard', 601: 'drive', 602: 'panaskan', 603: 'merespons', 604: 'pelepas', 605: 'resep', 606: 'anjuran', 607: 'kehalusan', 608: 'gilingan', 609: 'selera', 610: 'konsumsi', 611: 'tenang', 612: 'tersumbat', 613: 'preferensi', 614: 'internal', 615: 'kopling', 616: 'memeriksa', 617: 'bergerak', 618: 'terkumpul', 619: 'bantalan', 620: 'akurat', 621: 'keluarkan', 622: 'bluetooth', 623: 'gangguan', 624: 'konsistensi', 625: 'uap', 626: 'mudah', 627: 'sebentar', 628: 'diselesaikan', 629: 'keranjang', 630: 'biarkan', 631: 'jas', 632: 'gaun', 633: 'express', 634: 'cerah', 635: 'tertarik', 636: 'pengerjaan', 637: 'cocok', 638: 'harian', 639: 'fleksibel', 640: 'pengambilannya', 641: 'aslinya', 642: 'sedikan', 643: 'menjemput', 644: 'berat', 645: 'sensitive', 646: 'mencakup', 647: 'disediakan', 648: 'pesanan', 649: 'reguler', 650: 'andal', 651: 'penawaran', 652: 'membandel', 653: 'terpercaya', 654: 'tebal', 655: 'penting', 656: 'terawat', 657: 'ditangani', 658: 'blus', 659: 'bersamaan', 660: 'liburan', 661: 'premium', 662: 'satin', 663: 'hanya', 664: 'clean', 665: 'setrikaan', 666: 'mengolah', 667: 'mengelola', 668: 'kasual', 669: 'besar', 670: 'terbaik', 671: 'keterampilan', 672: 'unik', 673: 'jahitan', 674: 'fashion', 675: 'memperbaharui', 676: 'tersimpan', 677: 'siku', 678: 'buatan', 679: 'berulang', 680: 'sentuhan', 681: 'klasik', 682: 'kualitasnya', 683: 'multi', 684: 'kinclong', 685: 'antistatis', 686: 'gagang', 687: 'kocok', 688: 'serpihan', 689: 'pandangan', 690: 'meluap', 691: 'goyangkan', 692: 'keramas', 693: 'beraktivitas', 694: 'basah', 695: 'sekali', 696: 'kejernihannya', 697: 'ingatlah', 698: 'mendaur', 699: 'pilihlah', 700: 'vakum', 701: 'lintas', 702: 'kerapian', 703: 'perhatikan', 704: 'eksterior', 705: 'daur', 706: 'engsel', 707: 'hangat', 708: 'suasana', 709: 'nyaman', 710: 'membersihkannya', 711: 'memerangkap', 712: 'interior', 713: 'kasur', 714: 'membalik', 715: 'anginkannya', 716: 'gorden', 717: 'tatakan', 718: 'penguncian', 719: 'perabot', 720: 'memudahkan', 721: 'menyimpan', 722: 'pangkas', 723: 'tanaman', 724: 'kimia', 725: 'akhir', 726: 'pembuangan', 727: 'jaring', 728: 'sarung', 729: 'tungau', 730: 'bertekanan', 731: 'kertas', 732: 'letakkan', 733: 'beraroma', 734: 'menghemat', 735: 'menempel', 736: 'terpakai', 737: 'diperpanjang', 738: 'bersentuhan', 739: 'vaccum', 740: 'sink', 741: 'plafon', 742: 'gulung', 743: 'berantakan', 744: 'mainan', 745: 'vas', 746: 'bunga', 747: 'mouse', 748: 'hias', 749: 'liner', 750: 'kaki', 751: 'bawa', 752: 'rias', 753: 'surat', 754: 'dokumen', 755: 'alarm', 756: 'stop', 757: 'kontak', 758: 'bergelimpangan', 759: 'kandang', 760: 'gigi', 761: 'belanja', 762: 'botol', 763: 'minum', 764: 'kantongnya', 765: 'keringkan', 766: 'usap', 767: 'lagi', 768: 'panci', 769: 'rapihkan', 770: 'utama', 771: 'sedotlah', 772: 'shower', 773: 'merapikan', 774: 'permukaannya', 775: 'lepaskan', 776: 'statis', 777: 'ampuh', 778: 'jemur', 779: 'goresan', 780: 'visibilitas', 781: 'maksimum', 782: 'awet', 783: 'alergen', 784: 'perlukan', 785: 'disentuh', 786: 'disesuaikan', 787: 'didaur', 788: 'menutup', 789: 'kotak', 790: 'eksternal', 791: 'kapasitasnya', 792: 'perbaiki', 793: 'disetel', 794: 'tertera', 795: 'diperlukan', 796: 'cek', 797: 'program', 798: 'setting', 799: 'performa', 800: 'hdmi', 801: 'kelistrikan', 802: 'volume', 803: 'privasi', 804: 'cleaner', 805: 'menggunakannya', 806: 'dimatikan', 807: 'drainase', 808: 'mengisi', 809: 'usang', 810: 'alirannya', 811: 'speaker', 812: 'seluler', 813: 'posisi', 814: 'pengeluaran', 815: 'watt', 816: 'memadai', 817: 'defragmentasi', 818: 'disk', 819: 'keseimbangan', 820: 'menghasilkan', 821: 'tahunan', 822: 'memperpanjang', 823: 'pakainya', 824: 'daftar', 825: 'favorit', 826: 'pemanggangan', 827: 'gunakan', 828: 'dampak', 829: 'kecepatannya', 830: 'penurunan', 831: 'nyata', 832: 'zona', 833: 'siklus', 834: 'putaran', 835: 'pintunya', 836: 'mekanismenya', 837: 'interval', 838: 'pabriknya', 839: 'evaporator', 840: 'konstan', 841: 'mangkuk', 842: 'diposisikan', 843: 'terbakar', 844: 'signifikan', 845: 'distribusi', 846: 'status', 847: 'demineralisasi', 848: 'penghangatnya', 849: 'pendengaran', 850: 'siapkan', 851: 'tes', 852: 'audio', 853: 'konveksi', 854: 'kemiringan', 855: 'mengarahkan', 856: 'pengisap', 857: 'roda', 858: 'orientasi', 859: 'koil', 860: 'pendinginan', 861: 'bocor', 862: 'level', 863: 'refrigeran', 864: 'sejajar', 865: 'kuras', 866: 'endapan', 867: 'kontrol', 868: 'dekalsifikasi', 869: 'pipa', 870: 'menyala', 871: 'kontras', 872: 'driver', 873: 'kompatibilitas', 874: 'luruskan', 875: 'bengkok', 876: 'pengapian', 877: 'pemanasan', 878: 'atasi', 879: 'bongkar', 880: 'dilepas', 881: 'mengalami', 882: 'menyalakan', 883: 'mematikannya', 884: 'arahnya', 885: 'sirkulasi', 886: 'mencairkan', 887: 'membekukan', 888: 'pabrik', 889: 'defrost', 890: 'berlebihan', 891: 'terperangkap', 892: 'memori', 893: 'ram', 894: 'modul', 895: 'segelnya', 896: 'gas', 897: 'gasket', 898: 'usb', 899: 'peningkatan', 900: 'terbaru', 901: 'pompa', 902: 'nyala', 903: 'terputus', 904: 'putus', 905: 'mengganggu', 906: 'reproduksi', 907: 'konsisten', 908: 'wadahnya', 909: 'terpasang', 910: 'pemutus', 911: 'arus', 912: 'konektivitas', 913: 'cita', 914: 'pencarian', 915: 'pemerataan', 916: 'suling', 917: 'hilangkan', 918: 'pun', 919: 'fungsionalitas', 920: 'pemeriksaan', 921: 'ambil', 922: 'inisiatif', 923: 'ya', 924: 'tanggung', 925: 'tidakkah', 926: 'menjadwalkan', 927: 'menyempatkan', 928: 'mengurusi', 929: 'alih', 930: 'kontribusi', 931: 'pergi', 932: 'memisahkan', 933: 'jenisnya', 934: 'prioritas', 935: 'suede', 936: 'asap', 937: 'eksklusif', 938: 'alergi', 939: 'dahulu', 940: 'lupakan', 941: 'pergilah', 942: 'menyengat', 943: 'tertunda', 944: 'menyepelekan', 945: 'pelanggan', 946: 'sewa', 947: 'langganan', 948: 'biaya', 949: 'wajar', 950: 'berlemak', 951: 'keperluan', 952: 'mendesak', 953: 'berikan', 954: 'merawatnya', 955: 'mengurusnya', 956: 'luntur', 957: 'tukang', 958: 'pekan', 959: 'bedcover', 960: 'anggota', 961: 'diurus', 962: 'bisa', 963: 'pewarnaan', 964: 'skin', 965: 'pesan', 966: 'pembelian', 967: 'bertambah', 968: 'penjemputan', 969: 'mengakomodasi', 970: 'tujuan', 971: 'saja', 972: 'mengantarkan', 973: 'terburu', 974: 'buru', 975: 'kue', 976: 'mengatasinya', 977: 'beritahu', 978: 'pilihan', 979: 'mintalah', 980: 'berlapis', 981: 'jaket', 982: 'mantel', 983: 'cermat', 984: 'melakukannya', 985: 'panjang', 986: 'mengantar', 987: 'pandai', 988: 'siap', 989: 'menata', 990: 'mungkin', 991: 'setumpuk', 992: 'berhati', 993: 'menjaminnya', 994: 'detil', 995: 'dress', 996: 'terbiasa', 997: 'menanganinya', 998: 'periode', 999: 'jaminan', 1000: 'tergores', 1001: 'memudar', 1002: 'saran', 1003: 'keawetan', 1004: 'tangani', 1005: 'pembayaran', 1006: 'berlangganan', 1007: 'bulanan', 1008: 'uang', 1009: 'dilipat', 1010: 'berpengalaman', 1011: 'banyak', 1012: 'meluruskan', 1013: 'kemasan', 1014: 'memproses', 1015: 'pengiriman', 1016: 'melangsir', 1017: 'finishing', 1018: 'corak', 1019: 'handmade', 1020: 'variasi', 1021: 'katun', 1022: 'aksen', 1023: 'athleisure', 1024: 'diperhatikan', 1025: 'melekat', 1026: 'tassel', 1027: 'ketelitian', 1028: 'buatanku', 1029: 'pengolahan', 1030: 'request', 1031: 'dikembangkan', 1032: 'untukku', 1033: 'kerumitan', 1034: 'custom', 1035: 'made', 1036: 'wool', 1037: 'silk', 1038: 'sportswear', 1039: 'dikhususkan', 1040: 'keaslian', 1041: 'lengan', 1042: 'merestorasi', 1043: 'penekanan', 1044: 'menyesuaikan', 1045: 'bekas', 1046: 'pertimbangan', 1047: 'struktur', 1048: 'kesulitan', 1049: 'persiapan', 1050: 'sendiri', 1051: 'bervariasi', 1052: 'dioptimalkan', 1053: 'kesadaran', 1054: 'pelintir', 1055: 'karakteristik', 1056: 'asli', 1057: 'pita', 1058: 'terlupakan', 1059: 'pundak', 1060: 'individual', 1061: 'penyetrikahan', 1062: 'canggih', 1063: 'avant', 1064: 'garde', 1065: 'futuristik', 1066: 'casual', 1067: 'vintage', 1068: 'antik', 1069: 'penghalusan', 1070: 'kerutan', 1071: 'kainnya', 1072: 'bakteri', 1073: 'kelembutan', 1074: 'perlindungan', 1075: 'uv', 1076: 'biasa', 1077: 'prosesnya', 1078: 'dihargai', 1079: 'menolong'}\n"
     ]
    }
   ],
   "source": [
    "print(tokenizer.index_word)"
   ]
  },
  {
   "cell_type": "code",
   "execution_count": null,
   "metadata": {},
   "outputs": [],
   "source": [
    "import pickle\n",
    "with open('tokenizer_index_word.pkl', 'wb') as file:\n",
    "    pickle.dump(tokenizer.index_word, file)"
   ]
  }
 ],
 "metadata": {
  "kernelspec": {
   "display_name": "Python 3",
   "language": "python",
   "name": "python3"
  },
  "language_info": {
   "codemirror_mode": {
    "name": "ipython",
    "version": 3
   },
   "file_extension": ".py",
   "mimetype": "text/x-python",
   "name": "python",
   "nbconvert_exporter": "python",
   "pygments_lexer": "ipython3",
   "version": "3.10.8"
  }
 },
 "nbformat": 4,
 "nbformat_minor": 2
}
